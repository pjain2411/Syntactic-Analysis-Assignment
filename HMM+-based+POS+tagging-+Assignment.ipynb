{
 "cells": [
  {
   "cell_type": "markdown",
   "metadata": {},
   "source": [
    "## POS tagging using modified Viterbi\n"
   ]
  },
  {
   "cell_type": "markdown",
   "metadata": {},
   "source": [
    "### Data Preparation"
   ]
  },
  {
   "cell_type": "code",
   "execution_count": 66,
   "metadata": {},
   "outputs": [
    {
     "name": "stderr",
     "output_type": "stream",
     "text": [
      "[nltk_data] Downloading package universal_tagset to\n",
      "[nltk_data]     C:\\Users\\DELL\\AppData\\Roaming\\nltk_data...\n",
      "[nltk_data]   Package universal_tagset is already up-to-date!\n"
     ]
    },
    {
     "data": {
      "text/plain": [
       "True"
      ]
     },
     "execution_count": 66,
     "metadata": {},
     "output_type": "execute_result"
    }
   ],
   "source": [
    "#Importing libraries\n",
    "#Importing libraries\n",
    "import nltk, re, pprint\n",
    "import numpy as np\n",
    "import pandas as pd\n",
    "import requests\n",
    "import matplotlib.pyplot as plt\n",
    "import seaborn as sns\n",
    "import pprint, time\n",
    "import random\n",
    "from sklearn.model_selection import train_test_split\n",
    "from nltk.tokenize import word_tokenize\n",
    "nltk.download('universal_tagset')"
   ]
  },
  {
   "cell_type": "code",
   "execution_count": 67,
   "metadata": {},
   "outputs": [],
   "source": [
    "# reading the Treebank tagged sentences\n",
    "nltk_data = list(nltk.corpus.treebank.tagged_sents(tagset='universal'))"
   ]
  },
  {
   "cell_type": "code",
   "execution_count": 68,
   "metadata": {},
   "outputs": [
    {
     "name": "stdout",
     "output_type": "stream",
     "text": [
      "[[('Pierre', 'NOUN'), ('Vinken', 'NOUN'), (',', '.'), ('61', 'NUM'), ('years', 'NOUN'), ('old', 'ADJ'), (',', '.'), ('will', 'VERB'), ('join', 'VERB'), ('the', 'DET'), ('board', 'NOUN'), ('as', 'ADP'), ('a', 'DET'), ('nonexecutive', 'ADJ'), ('director', 'NOUN'), ('Nov.', 'NOUN'), ('29', 'NUM'), ('.', '.')], [('Mr.', 'NOUN'), ('Vinken', 'NOUN'), ('is', 'VERB'), ('chairman', 'NOUN'), ('of', 'ADP'), ('Elsevier', 'NOUN'), ('N.V.', 'NOUN'), (',', '.'), ('the', 'DET'), ('Dutch', 'NOUN'), ('publishing', 'VERB'), ('group', 'NOUN'), ('.', '.')], [('Rudolph', 'NOUN'), ('Agnew', 'NOUN'), (',', '.'), ('55', 'NUM'), ('years', 'NOUN'), ('old', 'ADJ'), ('and', 'CONJ'), ('former', 'ADJ'), ('chairman', 'NOUN'), ('of', 'ADP'), ('Consolidated', 'NOUN'), ('Gold', 'NOUN'), ('Fields', 'NOUN'), ('PLC', 'NOUN'), (',', '.'), ('was', 'VERB'), ('named', 'VERB'), ('*-1', 'X'), ('a', 'DET'), ('nonexecutive', 'ADJ'), ('director', 'NOUN'), ('of', 'ADP'), ('this', 'DET'), ('British', 'ADJ'), ('industrial', 'ADJ'), ('conglomerate', 'NOUN'), ('.', '.')], [('A', 'DET'), ('form', 'NOUN'), ('of', 'ADP'), ('asbestos', 'NOUN'), ('once', 'ADV'), ('used', 'VERB'), ('*', 'X'), ('*', 'X'), ('to', 'PRT'), ('make', 'VERB'), ('Kent', 'NOUN'), ('cigarette', 'NOUN'), ('filters', 'NOUN'), ('has', 'VERB'), ('caused', 'VERB'), ('a', 'DET'), ('high', 'ADJ'), ('percentage', 'NOUN'), ('of', 'ADP'), ('cancer', 'NOUN'), ('deaths', 'NOUN'), ('among', 'ADP'), ('a', 'DET'), ('group', 'NOUN'), ('of', 'ADP'), ('workers', 'NOUN'), ('exposed', 'VERB'), ('*', 'X'), ('to', 'PRT'), ('it', 'PRON'), ('more', 'ADV'), ('than', 'ADP'), ('30', 'NUM'), ('years', 'NOUN'), ('ago', 'ADP'), (',', '.'), ('researchers', 'NOUN'), ('reported', 'VERB'), ('0', 'X'), ('*T*-1', 'X'), ('.', '.')], [('The', 'DET'), ('asbestos', 'NOUN'), ('fiber', 'NOUN'), (',', '.'), ('crocidolite', 'NOUN'), (',', '.'), ('is', 'VERB'), ('unusually', 'ADV'), ('resilient', 'ADJ'), ('once', 'ADP'), ('it', 'PRON'), ('enters', 'VERB'), ('the', 'DET'), ('lungs', 'NOUN'), (',', '.'), ('with', 'ADP'), ('even', 'ADV'), ('brief', 'ADJ'), ('exposures', 'NOUN'), ('to', 'PRT'), ('it', 'PRON'), ('causing', 'VERB'), ('symptoms', 'NOUN'), ('that', 'DET'), ('*T*-1', 'X'), ('show', 'VERB'), ('up', 'PRT'), ('decades', 'NOUN'), ('later', 'ADJ'), (',', '.'), ('researchers', 'NOUN'), ('said', 'VERB'), ('0', 'X'), ('*T*-2', 'X'), ('.', '.')], [('Lorillard', 'NOUN'), ('Inc.', 'NOUN'), (',', '.'), ('the', 'DET'), ('unit', 'NOUN'), ('of', 'ADP'), ('New', 'ADJ'), ('York-based', 'ADJ'), ('Loews', 'NOUN'), ('Corp.', 'NOUN'), ('that', 'DET'), ('*T*-2', 'X'), ('makes', 'VERB'), ('Kent', 'NOUN'), ('cigarettes', 'NOUN'), (',', '.'), ('stopped', 'VERB'), ('using', 'VERB'), ('crocidolite', 'NOUN'), ('in', 'ADP'), ('its', 'PRON'), ('Micronite', 'NOUN'), ('cigarette', 'NOUN'), ('filters', 'NOUN'), ('in', 'ADP'), ('1956', 'NUM'), ('.', '.')], [('Although', 'ADP'), ('preliminary', 'ADJ'), ('findings', 'NOUN'), ('were', 'VERB'), ('reported', 'VERB'), ('*-2', 'X'), ('more', 'ADV'), ('than', 'ADP'), ('a', 'DET'), ('year', 'NOUN'), ('ago', 'ADP'), (',', '.'), ('the', 'DET'), ('latest', 'ADJ'), ('results', 'NOUN'), ('appear', 'VERB'), ('in', 'ADP'), ('today', 'NOUN'), (\"'s\", 'PRT'), ('New', 'NOUN'), ('England', 'NOUN'), ('Journal', 'NOUN'), ('of', 'ADP'), ('Medicine', 'NOUN'), (',', '.'), ('a', 'DET'), ('forum', 'NOUN'), ('likely', 'ADJ'), ('*', 'X'), ('to', 'PRT'), ('bring', 'VERB'), ('new', 'ADJ'), ('attention', 'NOUN'), ('to', 'PRT'), ('the', 'DET'), ('problem', 'NOUN'), ('.', '.')], [('A', 'DET'), ('Lorillard', 'NOUN'), ('spokewoman', 'NOUN'), ('said', 'VERB'), (',', '.'), ('``', '.'), ('This', 'DET'), ('is', 'VERB'), ('an', 'DET'), ('old', 'ADJ'), ('story', 'NOUN'), ('.', '.')], [('We', 'PRON'), (\"'re\", 'VERB'), ('talking', 'VERB'), ('about', 'ADP'), ('years', 'NOUN'), ('ago', 'ADP'), ('before', 'ADP'), ('anyone', 'NOUN'), ('heard', 'VERB'), ('of', 'ADP'), ('asbestos', 'NOUN'), ('having', 'VERB'), ('any', 'DET'), ('questionable', 'ADJ'), ('properties', 'NOUN'), ('.', '.')], [('There', 'DET'), ('is', 'VERB'), ('no', 'DET'), ('asbestos', 'NOUN'), ('in', 'ADP'), ('our', 'PRON'), ('products', 'NOUN'), ('now', 'ADV'), ('.', '.'), (\"''\", '.')], [('Neither', 'DET'), ('Lorillard', 'NOUN'), ('nor', 'CONJ'), ('the', 'DET'), ('researchers', 'NOUN'), ('who', 'PRON'), ('*T*-3', 'X'), ('studied', 'VERB'), ('the', 'DET'), ('workers', 'NOUN'), ('were', 'VERB'), ('aware', 'ADJ'), ('of', 'ADP'), ('any', 'DET'), ('research', 'NOUN'), ('on', 'ADP'), ('smokers', 'NOUN'), ('of', 'ADP'), ('the', 'DET'), ('Kent', 'NOUN'), ('cigarettes', 'NOUN'), ('.', '.')], [('``', '.'), ('We', 'PRON'), ('have', 'VERB'), ('no', 'DET'), ('useful', 'ADJ'), ('information', 'NOUN'), ('on', 'ADP'), ('whether', 'ADP'), ('users', 'NOUN'), ('are', 'VERB'), ('at', 'ADP'), ('risk', 'NOUN'), (',', '.'), (\"''\", '.'), ('said', 'VERB'), ('*T*-1', 'X'), ('James', 'NOUN'), ('A.', 'NOUN'), ('Talcott', 'NOUN'), ('of', 'ADP'), ('Boston', 'NOUN'), (\"'s\", 'PRT'), ('Dana-Farber', 'NOUN'), ('Cancer', 'NOUN'), ('Institute', 'NOUN'), ('.', '.')], [('Dr.', 'NOUN'), ('Talcott', 'NOUN'), ('led', 'VERB'), ('a', 'DET'), ('team', 'NOUN'), ('of', 'ADP'), ('researchers', 'NOUN'), ('from', 'ADP'), ('the', 'DET'), ('National', 'NOUN'), ('Cancer', 'NOUN'), ('Institute', 'NOUN'), ('and', 'CONJ'), ('the', 'DET'), ('medical', 'ADJ'), ('schools', 'NOUN'), ('of', 'ADP'), ('Harvard', 'NOUN'), ('University', 'NOUN'), ('and', 'CONJ'), ('Boston', 'NOUN'), ('University', 'NOUN'), ('.', '.')], [('The', 'DET'), ('Lorillard', 'NOUN'), ('spokeswoman', 'NOUN'), ('said', 'VERB'), ('0', 'X'), ('asbestos', 'NOUN'), ('was', 'VERB'), ('used', 'VERB'), ('*-1', 'X'), ('in', 'ADP'), ('``', '.'), ('very', 'ADV'), ('modest', 'ADJ'), ('amounts', 'NOUN'), (\"''\", '.'), ('in', 'ADP'), ('*', 'X'), ('making', 'VERB'), ('paper', 'NOUN'), ('for', 'ADP'), ('the', 'DET'), ('filters', 'NOUN'), ('in', 'ADP'), ('the', 'DET'), ('early', 'ADJ'), ('1950s', 'NUM'), ('and', 'CONJ'), ('replaced', 'VERB'), ('*-1', 'X'), ('with', 'ADP'), ('a', 'DET'), ('different', 'ADJ'), ('type', 'NOUN'), ('of', 'ADP'), ('filter', 'NOUN'), ('in', 'ADP'), ('1956', 'NUM'), ('.', '.')], [('From', 'ADP'), ('1953', 'NUM'), ('to', 'PRT'), ('1955', 'NUM'), (',', '.'), ('9.8', 'NUM'), ('billion', 'NUM'), ('Kent', 'NOUN'), ('cigarettes', 'NOUN'), ('with', 'ADP'), ('the', 'DET'), ('filters', 'NOUN'), ('were', 'VERB'), ('sold', 'VERB'), ('*-3', 'X'), (',', '.'), ('the', 'DET'), ('company', 'NOUN'), ('said', 'VERB'), ('0', 'X'), ('*T*-1', 'X'), ('.', '.')], [('Among', 'ADP'), ('33', 'NUM'), ('men', 'NOUN'), ('who', 'PRON'), ('*T*-4', 'X'), ('worked', 'VERB'), ('closely', 'ADV'), ('with', 'ADP'), ('the', 'DET'), ('substance', 'NOUN'), (',', '.'), ('28', 'NUM'), ('*ICH*-1', 'X'), ('have', 'VERB'), ('died', 'VERB'), ('--', '.'), ('more', 'ADJ'), ('than', 'ADP'), ('three', 'NUM'), ('times', 'NOUN'), ('the', 'DET'), ('expected', 'VERB'), ('number', 'NOUN'), ('.', '.')], [('Four', 'NUM'), ('of', 'ADP'), ('the', 'DET'), ('five', 'NUM'), ('surviving', 'VERB'), ('workers', 'NOUN'), ('have', 'VERB'), ('asbestos-related', 'ADJ'), ('diseases', 'NOUN'), (',', '.'), ('including', 'VERB'), ('three', 'NUM'), ('with', 'ADP'), ('recently', 'ADV'), ('diagnosed', 'VERB'), ('cancer', 'NOUN'), ('.', '.')], [('The', 'DET'), ('total', 'NOUN'), ('of', 'ADP'), ('18', 'NUM'), ('deaths', 'NOUN'), ('from', 'ADP'), ('malignant', 'ADJ'), ('mesothelioma', 'NOUN'), (',', '.'), ('lung', 'NOUN'), ('cancer', 'NOUN'), ('and', 'CONJ'), ('asbestosis', 'NOUN'), ('was', 'VERB'), ('far', 'ADV'), ('higher', 'ADJ'), ('than', 'ADP'), ('*', 'X'), ('expected', 'VERB'), ('*?*', 'X'), (',', '.'), ('the', 'DET'), ('researchers', 'NOUN'), ('said', 'VERB'), ('0', 'X'), ('*T*-1', 'X'), ('.', '.')], [('``', '.'), ('The', 'DET'), ('morbidity', 'NOUN'), ('rate', 'NOUN'), ('is', 'VERB'), ('a', 'DET'), ('striking', 'ADJ'), ('finding', 'NOUN'), ('among', 'ADP'), ('those', 'DET'), ('of', 'ADP'), ('us', 'PRON'), ('who', 'PRON'), ('*T*-5', 'X'), ('study', 'VERB'), ('asbestos-related', 'ADJ'), ('diseases', 'NOUN'), (',', '.'), (\"''\", '.'), ('said', 'VERB'), ('*T*-1', 'X'), ('Dr.', 'NOUN'), ('Talcott', 'NOUN'), ('.', '.')], [('The', 'DET'), ('percentage', 'NOUN'), ('of', 'ADP'), ('lung', 'NOUN'), ('cancer', 'NOUN'), ('deaths', 'NOUN'), ('among', 'ADP'), ('the', 'DET'), ('workers', 'NOUN'), ('at', 'ADP'), ('the', 'DET'), ('West', 'NOUN'), ('Groton', 'NOUN'), (',', '.'), ('Mass.', 'NOUN'), (',', '.'), ('paper', 'NOUN'), ('factory', 'NOUN'), ('appears', 'VERB'), ('*-1', 'X'), ('to', 'PRT'), ('be', 'VERB'), ('the', 'DET'), ('highest', 'ADJ'), ('for', 'ADP'), ('any', 'DET'), ('asbestos', 'NOUN'), ('workers', 'NOUN'), ('studied', 'VERB'), ('*', 'X'), ('in', 'ADP'), ('Western', 'ADJ'), ('industrialized', 'VERB'), ('countries', 'NOUN'), (',', '.'), ('he', 'PRON'), ('said', 'VERB'), ('0', 'X'), ('*T*-2', 'X'), ('.', '.')], [('The', 'DET'), ('plant', 'NOUN'), (',', '.'), ('which', 'DET'), ('*T*-1', 'X'), ('is', 'VERB'), ('owned', 'VERB'), ('*-4', 'X'), ('by', 'ADP'), ('Hollingsworth', 'NOUN'), ('&', 'CONJ'), ('Vose', 'NOUN'), ('Co.', 'NOUN'), (',', '.'), ('was', 'VERB'), ('under', 'ADP'), ('contract', 'NOUN'), ('*ICH*-2', 'X'), ('with', 'ADP'), ('Lorillard', 'NOUN'), ('*', 'X'), ('to', 'PRT'), ('make', 'VERB'), ('the', 'DET'), ('cigarette', 'NOUN'), ('filters', 'NOUN'), ('.', '.')], [('The', 'DET'), ('finding', 'NOUN'), ('probably', 'ADV'), ('will', 'VERB'), ('support', 'VERB'), ('those', 'DET'), ('who', 'PRON'), ('*T*-6', 'X'), ('argue', 'VERB'), ('that', 'ADP'), ('the', 'DET'), ('U.S.', 'NOUN'), ('should', 'VERB'), ('regulate', 'VERB'), ('the', 'DET'), ('class', 'NOUN'), ('of', 'ADP'), ('asbestos', 'NOUN'), ('including', 'VERB'), ('crocidolite', 'NOUN'), ('more', 'ADV'), ('stringently', 'ADV'), ('than', 'ADP'), ('the', 'DET'), ('common', 'ADJ'), ('kind', 'NOUN'), ('of', 'ADP'), ('asbestos', 'NOUN'), (',', '.'), ('chrysotile', 'NOUN'), (',', '.'), ('found', 'VERB'), ('*', 'X'), ('in', 'ADP'), ('most', 'ADJ'), ('schools', 'NOUN'), ('and', 'CONJ'), ('other', 'ADJ'), ('buildings', 'NOUN'), (',', '.'), ('Dr.', 'NOUN'), ('Talcott', 'NOUN'), ('said', 'VERB'), ('0', 'X'), ('*T*-1', 'X'), ('.', '.')], [('The', 'DET'), ('U.S.', 'NOUN'), ('is', 'VERB'), ('one', 'NUM'), ('of', 'ADP'), ('the', 'DET'), ('few', 'ADJ'), ('industrialized', 'VERB'), ('nations', 'NOUN'), ('that', 'DET'), ('*T*-7', 'X'), ('does', 'VERB'), (\"n't\", 'ADV'), ('have', 'VERB'), ('a', 'DET'), ('higher', 'ADJ'), ('standard', 'NOUN'), ('of', 'ADP'), ('regulation', 'NOUN'), ('for', 'ADP'), ('the', 'DET'), ('smooth', 'ADJ'), (',', '.'), ('needle-like', 'ADJ'), ('fibers', 'NOUN'), ('such', 'ADJ'), ('as', 'ADP'), ('crocidolite', 'NOUN'), ('that', 'DET'), ('*T*-1', 'X'), ('are', 'VERB'), ('classified', 'VERB'), ('*-5', 'X'), ('as', 'ADP'), ('amphobiles', 'NOUN'), (',', '.'), ('according', 'VERB'), ('to', 'PRT'), ('Brooke', 'NOUN'), ('T.', 'NOUN'), ('Mossman', 'NOUN'), (',', '.'), ('a', 'DET'), ('professor', 'NOUN'), ('of', 'ADP'), ('pathlogy', 'NOUN'), ('at', 'ADP'), ('the', 'DET'), ('University', 'NOUN'), ('of', 'ADP'), ('Vermont', 'NOUN'), ('College', 'NOUN'), ('of', 'ADP'), ('Medicine', 'NOUN'), ('.', '.')], [('More', 'ADV'), ('common', 'ADJ'), ('chrysotile', 'NOUN'), ('fibers', 'NOUN'), ('are', 'VERB'), ('curly', 'ADJ'), ('and', 'CONJ'), ('are', 'VERB'), ('more', 'ADV'), ('easily', 'ADV'), ('rejected', 'VERB'), ('*-1', 'X'), ('by', 'ADP'), ('the', 'DET'), ('body', 'NOUN'), (',', '.'), ('Dr.', 'NOUN'), ('Mossman', 'NOUN'), ('explained', 'VERB'), ('0', 'X'), ('*T*-2', 'X'), ('.', '.')], [('In', 'ADP'), ('July', 'NOUN'), (',', '.'), ('the', 'DET'), ('Environmental', 'NOUN'), ('Protection', 'NOUN'), ('Agency', 'NOUN'), ('imposed', 'VERB'), ('a', 'DET'), ('gradual', 'ADJ'), ('ban', 'NOUN'), ('on', 'ADP'), ('virtually', 'ADV'), ('all', 'DET'), ('uses', 'NOUN'), ('of', 'ADP'), ('asbestos', 'NOUN'), ('.', '.')], [('By', 'ADP'), ('1997', 'NUM'), (',', '.'), ('almost', 'ADV'), ('all', 'DET'), ('remaining', 'VERB'), ('uses', 'NOUN'), ('of', 'ADP'), ('cancer-causing', 'ADJ'), ('asbestos', 'NOUN'), ('will', 'VERB'), ('be', 'VERB'), ('outlawed', 'VERB'), ('*-6', 'X'), ('.', '.')], [('About', 'ADP'), ('160', 'NUM'), ('workers', 'NOUN'), ('at', 'ADP'), ('a', 'DET'), ('factory', 'NOUN'), ('that', 'DET'), ('*T*-8', 'X'), ('made', 'VERB'), ('paper', 'NOUN'), ('for', 'ADP'), ('the', 'DET'), ('Kent', 'NOUN'), ('filters', 'NOUN'), ('were', 'VERB'), ('exposed', 'VERB'), ('*-7', 'X'), ('to', 'PRT'), ('asbestos', 'NOUN'), ('in', 'ADP'), ('the', 'DET'), ('1950s', 'NUM'), ('.', '.')], [('Areas', 'NOUN'), ('of', 'ADP'), ('the', 'DET'), ('factory', 'NOUN'), ('*ICH*-2', 'X'), ('were', 'VERB'), ('particularly', 'ADV'), ('dusty', 'ADJ'), ('where', 'ADV'), ('the', 'DET'), ('crocidolite', 'NOUN'), ('was', 'VERB'), ('used', 'VERB'), ('*-8', 'X'), ('*T*-1', 'X'), ('.', '.')], [('Workers', 'NOUN'), ('dumped', 'VERB'), ('large', 'ADJ'), ('burlap', 'NOUN'), ('sacks', 'NOUN'), ('of', 'ADP'), ('the', 'DET'), ('imported', 'VERB'), ('material', 'NOUN'), ('into', 'ADP'), ('a', 'DET'), ('huge', 'ADJ'), ('bin', 'NOUN'), (',', '.'), ('poured', 'VERB'), ('in', 'PRT'), ('cotton', 'NOUN'), ('and', 'CONJ'), ('acetate', 'NOUN'), ('fibers', 'NOUN'), ('and', 'CONJ'), ('mechanically', 'ADV'), ('mixed', 'VERB'), ('the', 'DET'), ('dry', 'ADJ'), ('fibers', 'NOUN'), ('in', 'ADP'), ('a', 'DET'), ('process', 'NOUN'), ('used', 'VERB'), ('*', 'X'), ('*', 'X'), ('to', 'PRT'), ('make', 'VERB'), ('filters', 'NOUN'), ('.', '.')], [('Workers', 'NOUN'), ('described', 'VERB'), ('``', '.'), ('clouds', 'NOUN'), ('of', 'ADP'), ('blue', 'ADJ'), ('dust', 'NOUN'), (\"''\", '.'), ('that', 'DET'), ('*T*-1', 'X'), ('hung', 'VERB'), ('over', 'ADP'), ('parts', 'NOUN'), ('of', 'ADP'), ('the', 'DET'), ('factory', 'NOUN'), (',', '.'), ('even', 'ADV'), ('though', 'ADP'), ('exhaust', 'NOUN'), ('fans', 'NOUN'), ('ventilated', 'VERB'), ('the', 'DET'), ('area', 'NOUN'), ('.', '.')], [('``', '.'), ('There', 'DET'), (\"'s\", 'VERB'), ('no', 'DET'), ('question', 'NOUN'), ('that', 'ADP'), ('some', 'DET'), ('of', 'ADP'), ('those', 'DET'), ('workers', 'NOUN'), ('and', 'CONJ'), ('managers', 'NOUN'), ('contracted', 'VERB'), ('asbestos-related', 'ADJ'), ('diseases', 'NOUN'), (',', '.'), (\"''\", '.'), ('said', 'VERB'), ('*T*-1', 'X'), ('Darrell', 'NOUN'), ('Phillips', 'NOUN'), (',', '.'), ('vice', 'NOUN'), ('president', 'NOUN'), ('of', 'ADP'), ('human', 'ADJ'), ('resources', 'NOUN'), ('for', 'ADP'), ('Hollingsworth', 'NOUN'), ('&', 'CONJ'), ('Vose', 'NOUN'), ('.', '.')], [('``', '.'), ('But', 'CONJ'), ('you', 'PRON'), ('have', 'VERB'), ('*-1', 'X'), ('to', 'PRT'), ('recognize', 'VERB'), ('that', 'ADP'), ('these', 'DET'), ('events', 'NOUN'), ('took', 'VERB'), ('place', 'NOUN'), ('35', 'NUM'), ('years', 'NOUN'), ('ago', 'ADP'), ('.', '.')], [('It', 'PRON'), ('has', 'VERB'), ('no', 'DET'), ('bearing', 'NOUN'), ('on', 'ADP'), ('our', 'PRON'), ('work', 'NOUN'), ('force', 'NOUN'), ('today', 'NOUN'), ('.', '.')], [('Yields', 'NOUN'), ('on', 'ADP'), ('money-market', 'ADJ'), ('mutual', 'ADJ'), ('funds', 'NOUN'), ('continued', 'VERB'), ('*-1', 'X'), ('to', 'PRT'), ('slide', 'VERB'), (',', '.'), ('amid', 'ADP'), ('signs', 'NOUN'), ('that', 'ADP'), ('portfolio', 'NOUN'), ('managers', 'NOUN'), ('expect', 'VERB'), ('further', 'ADJ'), ('declines', 'NOUN'), ('in', 'ADP'), ('interest', 'NOUN'), ('rates', 'NOUN'), ('.', '.')], [('The', 'DET'), ('average', 'ADJ'), ('seven-day', 'ADJ'), ('compound', 'NOUN'), ('yield', 'NOUN'), ('of', 'ADP'), ('the', 'DET'), ('400', 'NUM'), ('taxable', 'ADJ'), ('funds', 'NOUN'), ('tracked', 'VERB'), ('*', 'X'), ('by', 'ADP'), ('IBC', 'NOUN'), (\"'s\", 'PRT'), ('Money', 'NOUN'), ('Fund', 'NOUN'), ('Report', 'NOUN'), ('eased', 'VERB'), ('a', 'DET'), ('fraction', 'NOUN'), ('of', 'ADP'), ('a', 'DET'), ('percentage', 'NOUN'), ('point', 'NOUN'), ('to', 'PRT'), ('8.45', 'NUM'), ('%', 'NOUN'), ('from', 'ADP'), ('8.47', 'NUM'), ('%', 'NOUN'), ('for', 'ADP'), ('the', 'DET'), ('week', 'NOUN'), ('ended', 'VERB'), ('Tuesday', 'NOUN'), ('.', '.')], [('Compound', 'NOUN'), ('yields', 'NOUN'), ('assume', 'VERB'), ('reinvestment', 'NOUN'), ('of', 'ADP'), ('dividends', 'NOUN'), ('and', 'CONJ'), ('that', 'ADP'), ('the', 'DET'), ('current', 'ADJ'), ('yield', 'NOUN'), ('continues', 'VERB'), ('for', 'ADP'), ('a', 'DET'), ('year', 'NOUN'), ('.', '.')], [('Average', 'ADJ'), ('maturity', 'NOUN'), ('of', 'ADP'), ('the', 'DET'), ('funds', 'NOUN'), (\"'\", 'PRT'), ('investments', 'NOUN'), ('lengthened', 'VERB'), ('by', 'ADP'), ('a', 'DET'), ('day', 'NOUN'), ('to', 'PRT'), ('41', 'NUM'), ('days', 'NOUN'), (',', '.'), ('the', 'DET'), ('longest', 'ADJ'), ('since', 'ADP'), ('early', 'ADJ'), ('August', 'NOUN'), (',', '.'), ('according', 'VERB'), ('to', 'PRT'), ('Donoghue', 'NOUN'), (\"'s\", 'PRT'), ('.', '.')], [('Longer', 'ADJ'), ('maturities', 'NOUN'), ('are', 'VERB'), ('thought', 'VERB'), ('*-1', 'X'), ('to', 'PRT'), ('indicate', 'VERB'), ('declining', 'VERB'), ('interest', 'NOUN'), ('rates', 'NOUN'), ('because', 'ADP'), ('they', 'PRON'), ('permit', 'VERB'), ('portfolio', 'NOUN'), ('managers', 'NOUN'), ('to', 'PRT'), ('retain', 'VERB'), ('relatively', 'ADV'), ('higher', 'ADJ'), ('rates', 'NOUN'), ('for', 'ADP'), ('a', 'DET'), ('longer', 'ADJ'), ('period', 'NOUN'), ('.', '.')], [('Shorter', 'ADJ'), ('maturities', 'NOUN'), ('are', 'VERB'), ('considered', 'VERB'), ('*-9', 'X'), ('a', 'DET'), ('sign', 'NOUN'), ('of', 'ADP'), ('rising', 'VERB'), ('rates', 'NOUN'), ('because', 'ADP'), ('portfolio', 'NOUN'), ('managers', 'NOUN'), ('can', 'VERB'), ('capture', 'VERB'), ('higher', 'ADJ'), ('rates', 'NOUN'), ('sooner', 'ADV'), ('.', '.')], [('The', 'DET'), ('average', 'ADJ'), ('maturity', 'NOUN'), ('for', 'ADP'), ('funds', 'NOUN'), ('open', 'ADJ'), ('only', 'ADV'), ('to', 'PRT'), ('institutions', 'NOUN'), (',', '.'), ('considered', 'VERB'), ('by', 'ADP'), ('some', 'DET'), ('*', 'X'), ('to', 'PRT'), ('be', 'VERB'), ('a', 'DET'), ('stronger', 'ADJ'), ('indicator', 'NOUN'), ('because', 'ADP'), ('those', 'DET'), ('managers', 'NOUN'), ('watch', 'VERB'), ('the', 'DET'), ('market', 'NOUN'), ('closely', 'ADV'), (',', '.'), ('reached', 'VERB'), ('a', 'DET'), ('high', 'ADJ'), ('point', 'NOUN'), ('for', 'ADP'), ('the', 'DET'), ('year', 'NOUN'), ('--', '.'), ('33', 'NUM'), ('days', 'NOUN'), ('.', '.')]]\n"
     ]
    }
   ],
   "source": [
    "print(nltk_data[:40])"
   ]
  },
  {
   "cell_type": "code",
   "execution_count": 69,
   "metadata": {},
   "outputs": [
    {
     "name": "stdout",
     "output_type": "stream",
     "text": [
      "3718\n",
      "196\n",
      "[[('Ports', 'NOUN'), ('in', 'ADP'), ('the', 'DET'), ('Great', 'NOUN'), ('Lakes', 'NOUN'), ('and', 'CONJ'), ('Atlantic', 'NOUN'), ('Coast', 'NOUN'), ('can', 'VERB'), ('also', 'ADV'), ('relieve', 'VERB'), ('pressure', 'NOUN'), ('on', 'ADP'), ('New', 'NOUN'), ('Orleans', 'NOUN'), ('.', '.')], [('In', 'ADP'), ('September', 'NOUN'), (',', '.'), ('she', 'PRON'), ('pleaded', 'VERB'), ('guilty', 'ADJ'), ('and', 'CONJ'), ('paid', 'VERB'), ('a', 'DET'), ('$', '.'), ('500', 'NUM'), ('*U*', 'X'), ('fine', 'NOUN'), ('.', '.')], [('The', 'DET'), ('USX', 'NOUN'), ('citations', 'NOUN'), ('represented', 'VERB'), ('the', 'DET'), ('first', 'ADJ'), ('sizable', 'ADJ'), ('enforcement', 'NOUN'), ('action', 'NOUN'), ('taken', 'VERB'), ('*', 'X'), ('by', 'ADP'), ('OSHA', 'NOUN'), ('under', 'ADP'), ('Mr.', 'NOUN'), ('Scannell', 'NOUN'), ('.', '.')], [('He', 'PRON'), ('is', 'VERB'), ('just', 'ADV'), ('passing', 'VERB'), ('the', 'DET'), ('buck', 'NOUN'), ('to', 'PRT'), ('young', 'ADJ'), ('people', 'NOUN'), ('.', '.')], [('Mr.', 'NOUN'), ('Hahn', 'NOUN'), ('began', 'VERB'), ('*-1', 'X'), ('selling', 'VERB'), ('non-core', 'ADJ'), ('businesses', 'NOUN'), (',', '.'), ('such', 'ADJ'), ('as', 'ADP'), ('oil', 'NOUN'), ('and', 'CONJ'), ('gas', 'NOUN'), ('and', 'CONJ'), ('chemicals', 'NOUN'), ('.', '.')], [('This', 'DET'), ('information', 'NOUN'), ('used', 'VERB'), ('*-1', 'X'), ('to', 'PRT'), ('be', 'VERB'), ('poorly', 'ADV'), ('documented', 'VERB'), ('and', 'CONJ'), ('largely', 'ADV'), ('anecdotal', 'ADJ'), (',', '.'), ('says', 'VERB'), ('0', 'X'), ('*T*-2', 'X'), ('Beth', 'NOUN'), ('Gates-Warren', 'NOUN'), ('of', 'ADP'), ('Sotheby', 'NOUN'), (\"'s\", 'PRT'), ('.', '.')], [('``', '.'), ('Invariably', 'ADV'), (',', '.'), ('those', 'DET'), ('strong', 'ADJ'), ('periods', 'NOUN'), ('in', 'ADP'), ('the', 'DET'), ('economy', 'NOUN'), ('give', 'VERB'), ('way', 'NOUN'), ('to', 'PRT'), ('recessionary', 'ADJ'), ('environments', 'NOUN'), (',', '.'), (\"''\", '.'), ('he', 'PRON'), ('says', 'VERB'), ('*T*-1', 'X'), ('.', '.')], [('In', 'ADP'), ('Richmond', 'NOUN'), (',', '.'), ('Ind.', 'NOUN'), (',', '.'), ('the', 'DET'), ('type', 'NOUN'), ('F', 'NOUN'), ('railing', 'NOUN'), ('is', 'VERB'), ('being', 'VERB'), ('used', 'VERB'), ('*-1', 'X'), ('*-2', 'X'), ('to', 'PRT'), ('replace', 'VERB'), ('arched', 'ADJ'), ('openings', 'NOUN'), ('on', 'ADP'), ('the', 'DET'), ('G', 'NOUN'), ('Street', 'NOUN'), ('Bridge', 'NOUN'), ('.', '.')], [('Behind', 'ADP'), ('all', 'DET'), ('the', 'DET'), ('hoopla', 'NOUN'), ('is', 'VERB'), ('*T*-1', 'X'), ('some', 'DET'), ('heavy-duty', 'ADJ'), ('competition', 'NOUN'), ('.', '.')], [('William', 'NOUN'), ('Randolph', 'NOUN'), ('Hearst', 'NOUN'), ('had', 'VERB'), ('kept', 'VERB'), ('an', 'DET'), ('apartment', 'NOUN'), ('in', 'ADP'), ('the', 'DET'), ('Spanish', 'NOUN'), ('Renaissance-style', 'ADJ'), ('building', 'NOUN'), ('.', '.')], [('The', 'DET'), ('thrift', 'NOUN'), ('surely', 'ADV'), ('could', 'VERB'), ('be', 'VERB'), ('sold', 'VERB'), ('*-1', 'X'), ('for', 'ADP'), ('more', 'ADJ'), ('than', 'ADP'), ('the', 'DET'), ('value', 'NOUN'), ('of', 'ADP'), ('its', 'PRON'), ('equity', 'NOUN'), (',', '.'), ('financial', 'ADJ'), ('industry', 'NOUN'), ('executives', 'NOUN'), ('say', 'VERB'), ('0', 'X'), ('*T*-2', 'X'), ('.', '.')], [('The', 'DET'), ('others', 'NOUN'), ('here', 'ADV'), ('today', 'NOUN'), ('live', 'VERB'), ('elsewhere', 'ADV'), ('.', '.')], [('But', 'CONJ'), ('the', 'DET'), ('New', 'NOUN'), ('York', 'NOUN'), ('Stock', 'NOUN'), ('Exchange', 'NOUN'), ('chairman', 'NOUN'), ('said', 'VERB'), ('0', 'X'), ('he', 'PRON'), ('does', 'VERB'), (\"n't\", 'ADV'), ('support', 'VERB'), ('*', 'X'), ('reinstating', 'VERB'), ('a', 'DET'), ('``', '.'), ('collar', 'NOUN'), (\"''\", '.'), ('on', 'ADP'), ('program', 'NOUN'), ('trading', 'NOUN'), (',', '.'), ('*-1', 'X'), ('arguing', 'VERB'), ('that', 'ADP'), ('firms', 'NOUN'), ('could', 'VERB'), ('get', 'VERB'), ('around', 'ADP'), ('such', 'ADJ'), ('a', 'DET'), ('limit', 'NOUN'), ('.', '.')], [('The', 'DET'), ('Soviet', 'NOUN'), ('Union', 'NOUN'), ('wants', 'VERB'), ('much', 'ADJ'), ('of', 'ADP'), ('it', 'PRON'), ('delivered', 'VERB'), ('*-2', 'X'), ('by', 'ADP'), ('January', 'NOUN'), (',', '.'), ('which', 'DET'), ('*T*-1', 'X'), ('would', 'VERB'), ('be', 'VERB'), ('a', 'DET'), ('strain', 'NOUN'), ('in', 'ADP'), ('most', 'ADJ'), ('years', 'NOUN'), ('.', '.')], [('The', 'DET'), ('group', 'NOUN'), ('says', 'VERB'), ('0', 'X'), ('standardized', 'ADJ'), ('achievement', 'NOUN'), ('test', 'NOUN'), ('scores', 'NOUN'), ('are', 'VERB'), ('greatly', 'ADV'), ('inflated', 'VERB'), ('because', 'ADP'), ('teachers', 'NOUN'), ('often', 'ADV'), ('``', '.'), ('teach', 'VERB'), ('the', 'DET'), ('test', 'NOUN'), (\"''\", '.'), ('as', 'ADP'), ('Mrs.', 'NOUN'), ('Yeargin', 'NOUN'), ('did', 'VERB'), ('*?*', 'X'), (',', '.'), ('although', 'ADP'), ('most', 'ADJ'), ('are', 'VERB'), ('never', 'ADV'), ('caught', 'VERB'), ('*-1', 'X'), ('.', '.')], [('The', 'DET'), ('Underwood', 'NOUN'), ('family', 'NOUN'), ('said', 'VERB'), ('that', 'ADP'), ('holders', 'NOUN'), ('of', 'ADP'), ('more', 'ADJ'), ('than', 'ADP'), ('a', 'DET'), ('majority', 'NOUN'), ('of', 'ADP'), ('the', 'DET'), ('stock', 'NOUN'), ('of', 'ADP'), ('the', 'DET'), ('company', 'NOUN'), ('have', 'VERB'), ('approved', 'VERB'), ('the', 'DET'), ('transaction', 'NOUN'), ('by', 'ADP'), ('written', 'VERB'), ('consent', 'NOUN'), ('.', '.')], [('The', 'DET'), ('employment', 'NOUN'), ('report', 'NOUN'), (',', '.'), ('which', 'DET'), ('at', 'ADP'), ('times', 'NOUN'), ('*T*-1', 'X'), ('has', 'VERB'), ('caused', 'VERB'), ('wide', 'ADJ'), ('swings', 'NOUN'), ('in', 'ADP'), ('bond', 'NOUN'), ('prices', 'NOUN'), (',', '.'), ('is', 'VERB'), ('due', 'ADJ'), ('out', 'ADP'), ('tomorrow', 'NOUN'), ('.', '.')], [('Texaco', 'NOUN'), ('rose', 'VERB'), ('3\\\\/4', 'NUM'), ('to', 'PRT'), ('53', 'NUM'), ('3\\\\/8', 'NUM'), ('as', 'ADP'), ('4.4', 'NUM'), ('million', 'NUM'), ('shares', 'NOUN'), ('changed', 'VERB'), ('hands', 'NOUN'), ('.', '.')], [('Still', 'ADV'), (',', '.'), ('USX', 'NOUN'), ('fared', 'VERB'), ('better', 'ADV'), ('than', 'ADP'), ('other', 'ADJ'), ('major', 'ADJ'), ('steelmakers', 'NOUN'), (',', '.'), ('*-3', 'X'), ('earning', 'VERB'), ('more', 'ADJ'), ('per', 'ADP'), ('ton', 'NOUN'), ('of', 'ADP'), ('steel', 'NOUN'), ('shipped', 'VERB'), ('*', 'X'), ('than', 'ADP'), ('either', 'DET'), ('Bethlehem', 'NOUN'), ('Steel', 'NOUN'), ('Corp.', 'NOUN'), (',', '.'), ('which', 'DET'), ('*T*-1', 'X'), ('posted', 'VERB'), ('a', 'DET'), ('54', 'NUM'), ('%', 'NOUN'), ('drop', 'NOUN'), ('in', 'ADP'), ('net', 'ADJ'), ('income', 'NOUN'), (',', '.'), ('or', 'CONJ'), ('Inland', 'NOUN'), ('Steel', 'NOUN'), ('Industries', 'NOUN'), ('Inc.', 'NOUN'), (',', '.'), ('whose', 'PRON'), ('profit', 'NOUN'), ('*T*-2', 'X'), ('plummeted', 'VERB'), ('70', 'NUM'), ('%', 'NOUN'), ('.', '.')], [('``', '.'), ('That', 'DET'), ('attracts', 'VERB'), ('attention', 'NOUN'), ('...', '.')], [('Neither', 'DET'), ('they', 'PRON'), ('nor', 'CONJ'), ('Mr.', 'NOUN'), ('McAlpine', 'NOUN'), ('could', 'VERB'), ('be', 'VERB'), ('reached', 'VERB'), ('*-38', 'X'), ('for', 'ADP'), ('comment', 'NOUN'), ('.', '.')], [('It', 'PRON'), ('is', 'VERB'), ('not', 'ADV'), ('supported', 'VERB'), ('by', 'ADP'), ('the', 'DET'), ('text', 'NOUN'), ('or', 'CONJ'), ('history', 'NOUN'), ('of', 'ADP'), ('the', 'DET'), ('Constitution', 'NOUN'), ('.', '.')], [('In', 'ADP'), ('Champagne', 'NOUN'), (',', '.'), ('some', 'DET'), ('of', 'ADP'), ('the', 'DET'), ('prestige', 'NOUN'), ('cuvees', 'NOUN'), ('are', 'VERB'), ('inching', 'VERB'), ('toward', 'ADP'), ('$', '.'), ('100', 'NUM'), ('*U*', 'X'), ('a', 'DET'), ('bottle', 'NOUN'), ('.', '.')], [('Faulding', 'NOUN'), ('said', 'VERB'), ('0', 'X'), ('it', 'PRON'), ('owns', 'VERB'), ('33', 'NUM'), ('%', 'NOUN'), ('of', 'ADP'), ('Moleculon', 'NOUN'), (\"'s\", 'PRT'), ('voting', 'NOUN'), ('stock', 'NOUN'), ('and', 'CONJ'), ('has', 'VERB'), ('an', 'DET'), ('agreement', 'NOUN'), ('*', 'X'), ('to', 'PRT'), ('acquire', 'VERB'), ('an', 'DET'), ('additional', 'ADJ'), ('19', 'NUM'), ('%', 'NOUN'), ('.', '.')], [('The', 'DET'), ('president', 'NOUN'), ('could', 'VERB'), ('probably', 'ADV'), ('not', 'ADV'), ('avoid', 'VERB'), ('this', 'DET'), ('restriction', 'NOUN'), ('by', 'ADP'), ('*-1', 'X'), ('choosing', 'VERB'), ('people', 'NOUN'), ('willing', 'ADJ'), ('*', 'X'), ('to', 'PRT'), ('serve', 'VERB'), ('without', 'ADP'), ('pay', 'NOUN'), (',', '.'), ('because', 'ADP'), ('the', 'DET'), ('Anti-Deficiency', 'NOUN'), ('Act', 'NOUN'), ('prohibits', 'VERB'), ('voluntary', 'ADJ'), ('service', 'NOUN'), ('to', 'PRT'), ('the', 'DET'), ('government', 'NOUN'), ('.', '.')], [('Her', 'PRON'), ('remorse', 'NOUN'), ('was', 'VERB'), ('shallow', 'ADJ'), ('and', 'CONJ'), ('brief', 'ADJ'), ('.', '.')], [('Mr.', 'NOUN'), ('Rapanelli', 'NOUN'), ('met', 'VERB'), ('in', 'ADP'), ('August', 'NOUN'), ('with', 'ADP'), ('U.S.', 'NOUN'), ('Assistant', 'NOUN'), ('Treasury', 'NOUN'), ('Secretary', 'NOUN'), ('David', 'NOUN'), ('Mulford', 'NOUN'), ('.', '.')], [('The', 'DET'), ('Latin', 'NOUN'), ('American', 'NOUN'), ('nation', 'NOUN'), ('has', 'VERB'), ('paid', 'VERB'), ('very', 'ADV'), ('little', 'ADV'), ('on', 'ADP'), ('its', 'PRON'), ('debt', 'NOUN'), ('since', 'ADP'), ('early', 'ADJ'), ('last', 'ADJ'), ('year', 'NOUN'), ('.', '.')], [('The', 'DET'), ('bill', 'NOUN'), (',', '.'), ('as', 'ADP'), ('it', 'PRON'), ('was', 'VERB'), ('approved', 'VERB'), ('*-26', 'X'), ('by', 'ADP'), ('the', 'DET'), ('House', 'NOUN'), ('Public', 'NOUN'), ('Works', 'NOUN'), ('and', 'CONJ'), ('Transportation', 'NOUN'), ('Committee', 'NOUN'), (',', '.'), ('would', 'VERB'), ('give', 'VERB'), ('the', 'DET'), ('Transportation', 'NOUN'), ('Department', 'NOUN'), ('up', 'ADP'), ('to', 'PRT'), ('50', 'NUM'), ('days', 'NOUN'), ('0', 'X'), ('*', 'X'), ('to', 'PRT'), ('review', 'VERB'), ('any', 'DET'), ('purchase', 'NOUN'), ('of', 'ADP'), ('15', 'NUM'), ('%', 'NOUN'), ('or', 'CONJ'), ('more', 'ADJ'), ('of', 'ADP'), ('the', 'DET'), ('stock', 'NOUN'), ('in', 'ADP'), ('an', 'DET'), ('airline', 'NOUN'), ('*T*-1', 'X'), ('.', '.')], [('Meanwhile', 'ADV'), (',', '.'), ('many', 'ADJ'), ('market', 'NOUN'), ('watchers', 'NOUN'), ('say', 'VERB'), ('0', 'X'), ('recent', 'ADJ'), ('dividend', 'NOUN'), ('trends', 'NOUN'), ('raise', 'VERB'), ('another', 'DET'), ('warning', 'NOUN'), ('flag', 'NOUN'), (':', '.'), ('While', 'ADP'), ('dividends', 'NOUN'), ('have', 'VERB'), ('risen', 'VERB'), ('smartly', 'ADV'), (',', '.'), ('their', 'PRON'), ('expansion', 'NOUN'), ('has', 'VERB'), (\"n't\", 'ADV'), ('kept', 'VERB'), ('pace', 'NOUN'), ('with', 'ADP'), ('even', 'ADJ'), ('stronger', 'ADJ'), ('advances', 'NOUN'), ('in', 'ADP'), ('stock', 'NOUN'), ('prices', 'NOUN'), ('.', '.')], [('Currently', 'ADV'), (',', '.'), ('the', 'DET'), ('government', 'NOUN'), ('charges', 'VERB'), ('nothing', 'NOUN'), ('for', 'ADP'), ('such', 'ADJ'), ('filings', 'NOUN'), ('.', '.')], [('Signs', 'NOUN'), ('of', 'ADP'), ('a', 'DET'), ('slowing', 'VERB'), ('economy', 'NOUN'), ('are', 'VERB'), ('increasing', 'VERB'), ('pressure', 'NOUN'), ('*ICH*-2', 'X'), ('on', 'ADP'), ('the', 'DET'), ('Federal', 'NOUN'), ('Reserve', 'NOUN'), ('*', 'X'), ('to', 'PRT'), ('cut', 'VERB'), ('short-term', 'ADJ'), ('interest', 'NOUN'), ('rates', 'NOUN'), (',', '.'), ('but', 'CONJ'), ('it', 'PRON'), ('*EXP*-1', 'X'), ('is', 'VERB'), (\"n't\", 'ADV'), ('clear', 'ADJ'), ('whether', 'ADP'), ('the', 'DET'), ('central', 'ADJ'), ('bank', 'NOUN'), ('will', 'VERB'), ('do', 'VERB'), ('so', 'ADV'), ('.', '.')], [('``', '.'), ('Such', 'ADJ'), ('research', 'NOUN'), ('may', 'VERB'), ('ultimately', 'ADV'), ('result', 'VERB'), ('in', 'ADP'), ('the', 'DET'), ('ability', 'NOUN'), ('*', 'X'), ('to', 'PRT'), ('regenerate', 'VERB'), ('damaged', 'ADJ'), ('tissues', 'NOUN'), ('or', 'CONJ'), ('*', 'X'), ('to', 'PRT'), ('turn', 'VERB'), ('off', 'PRT'), ('genes', 'NOUN'), ('that', 'DET'), ('*T*-114', 'X'), ('cause', 'VERB'), ('cancer', 'NOUN'), (\"''\", '.'), ('or', 'CONJ'), ('*', 'X'), ('to', 'PRT'), ('regulate', 'VERB'), ('genes', 'NOUN'), ('that', 'DET'), ('*T*-115', 'X'), ('cause', 'VERB'), ('Down', 'NOUN'), (\"'s\", 'PRT'), ('syndrome', 'NOUN'), (',', '.'), ('the', 'DET'), ('leading', 'VERB'), ('cause', 'NOUN'), ('of', 'ADP'), ('mental', 'ADJ'), ('retardation', 'NOUN'), (',', '.'), ('according', 'VERB'), ('to', 'PRT'), ('an', 'DET'), ('NIH', 'NOUN'), ('summary', 'NOUN'), ('.', '.')], [('Lorillard', 'NOUN'), ('Inc.', 'NOUN'), (',', '.'), ('the', 'DET'), ('unit', 'NOUN'), ('of', 'ADP'), ('New', 'ADJ'), ('York-based', 'ADJ'), ('Loews', 'NOUN'), ('Corp.', 'NOUN'), ('that', 'DET'), ('*T*-2', 'X'), ('makes', 'VERB'), ('Kent', 'NOUN'), ('cigarettes', 'NOUN'), (',', '.'), ('stopped', 'VERB'), ('using', 'VERB'), ('crocidolite', 'NOUN'), ('in', 'ADP'), ('its', 'PRON'), ('Micronite', 'NOUN'), ('cigarette', 'NOUN'), ('filters', 'NOUN'), ('in', 'ADP'), ('1956', 'NUM'), ('.', '.')], [('There', 'DET'), (\"'s\", 'VERB'), ('no', 'DET'), ('culprit', 'NOUN'), ('here', 'ADV'), ('.', '.')], [('The', 'DET'), ('Finnish', 'ADJ'), ('government', 'NOUN'), ('and', 'CONJ'), ('major', 'ADJ'), ('creditors', 'NOUN'), ('of', 'ADP'), ('bankrupt', 'ADJ'), ('shipyard', 'NOUN'), ('Waertsilae', 'NOUN'), ('Marine', 'NOUN'), ('Industries', 'NOUN'), ('Oy', 'NOUN'), ('agreed', 'VERB'), ('in', 'ADP'), ('principle', 'NOUN'), ('*-1', 'X'), ('to', 'PRT'), ('form', 'VERB'), ('a', 'DET'), ('new', 'ADJ'), ('company', 'NOUN'), ('*-2', 'X'), ('to', 'PRT'), ('complete', 'VERB'), ('most', 'ADJ'), ('of', 'ADP'), ('the', 'DET'), ('troubled', 'ADJ'), ('shipyard', 'NOUN'), (\"'s\", 'PRT'), ('backlog', 'NOUN'), ('of', 'ADP'), ('15', 'NUM'), ('ships', 'NOUN'), ('.', '.')], [('The', 'DET'), ('official', 'ADJ'), ('news', 'NOUN'), ('agency', 'NOUN'), ('PAP', 'NOUN'), ('said', 'VERB'), ('0', 'X'), ('the', 'DET'), ('increases', 'NOUN'), ('were', 'VERB'), ('intended', 'VERB'), ('*-1', 'X'), ('to', 'PRT'), ('bring', 'VERB'), ('unrealistically', 'ADV'), ('low', 'ADJ'), ('energy', 'NOUN'), ('charges', 'NOUN'), ('into', 'ADP'), ('line', 'NOUN'), ('with', 'ADP'), ('production', 'NOUN'), ('costs', 'NOUN'), ('and', 'CONJ'), ('compensate', 'VERB'), ('for', 'ADP'), ('a', 'DET'), ('rise', 'NOUN'), ('in', 'ADP'), ('coal', 'NOUN'), ('prices', 'NOUN'), ('.', '.')], [('The', 'DET'), ('Japanese', 'ADJ'), ('companies', 'NOUN'), ('bankroll', 'VERB'), ('many', 'ADJ'), ('small', 'ADJ'), ('U.S.', 'NOUN'), ('companies', 'NOUN'), ('with', 'ADP'), ('promising', 'ADJ'), ('products', 'NOUN'), ('or', 'CONJ'), ('ideas', 'NOUN'), (',', '.'), ('*-1', 'X'), ('frequently', 'ADV'), ('putting', 'VERB'), ('their', 'PRON'), ('money', 'NOUN'), ('behind', 'ADP'), ('projects', 'NOUN'), ('that', 'ADP'), ('commercial', 'ADJ'), ('banks', 'NOUN'), ('wo', 'VERB'), (\"n't\", 'ADV'), ('touch', 'VERB'), ('*T*-191', 'X'), ('.', '.')], [('you', 'PRON'), ('will', 'VERB'), ('not', 'ADV'), ('put', 'VERB'), ('the', 'DET'), ('financial', 'ADJ'), ('system', 'NOUN'), ('in', 'ADP'), ('jeopardy', 'NOUN'), ('.', '.'), (\"'\", '.'), (\"''\", '.')], [('Charles', 'NOUN'), ('D.', 'NOUN'), ('Phipps', 'NOUN'), ('Sr.', 'NOUN'), (',', '.'), ('Hermitage', 'NOUN'), (',', '.'), ('Pa.', 'NOUN'), (',', '.'), ('fined', 'VERB'), ('*-1', 'X'), ('$', '.'), ('10,000', 'NUM'), ('*U*', 'X'), (';', '.'), ('David', 'NOUN'), ('Scott', 'NOUN'), ('Rankin', 'NOUN'), (',', '.'), ('Lake', 'NOUN'), ('St.', 'NOUN'), ('Louis', 'NOUN'), (',', '.'), ('Mo.', 'NOUN'), (',', '.'), ('$', '.'), ('15,000', 'NUM'), ('*U*', 'X'), (';', '.'), ('Leigh', 'NOUN'), ('A.', 'NOUN'), ('Sanderoff', 'NOUN'), (',', '.'), ('Gaithersburg', 'NOUN'), (',', '.'), ('Md.', 'NOUN'), (',', '.'), ('fined', 'VERB'), ('*-2', 'X'), ('$', '.'), ('45,000', 'NUM'), ('*U*', 'X'), (',', '.'), ('ordered', 'VERB'), ('*-2', 'X'), ('*-3', 'X'), ('to', 'PRT'), ('disgorge', 'VERB'), ('$', '.'), ('12,252', 'NUM'), ('*U*', 'X'), (';', '.'), ('Sandra', 'NOUN'), ('Ann', 'NOUN'), ('Smith', 'NOUN'), (',', '.'), ('Ridgefield', 'NOUN'), (',', '.'), ('N.J.', 'NOUN'), (',', '.'), ('$', '.'), ('15,000', 'NUM'), ('*U*', 'X'), (';', '.'), ('James', 'NOUN'), ('G.', 'NOUN'), ('Spence', 'NOUN'), (',', '.'), ('Aloha', 'NOUN'), (',', '.'), ('Ore.', 'NOUN'), (',', '.'), ('$', '.'), ('5,000', 'NUM'), ('*U*', 'X'), ('and', 'CONJ'), ('six-month', 'ADJ'), ('suspension', 'NOUN'), (';', '.'), ('Mona', 'NOUN'), ('Sun', 'NOUN'), (',', '.'), ('Jamaica', 'NOUN'), ('Estates', 'NOUN'), (',', '.'), ('N.Y.', 'NOUN'), (',', '.'), ('$', '.'), ('60,000', 'NUM'), ('*U*', 'X'), (';', '.'), ('William', 'NOUN'), ('Swearingen', 'NOUN'), (',', '.'), ('Minneapolis', 'NOUN'), (',', '.'), ('$', '.'), ('15,000', 'NUM'), ('*U*', 'X'), ('and', 'CONJ'), ('six-month', 'ADJ'), ('suspension', 'NOUN'), (';', '.'), ('John', 'NOUN'), ('Bew', 'NOUN'), ('Wong', 'NOUN'), (',', '.'), ('San', 'NOUN'), ('Francisco', 'NOUN'), (',', '.'), ('$', '.'), ('25,000', 'NUM'), ('*U*', 'X'), (';', '.'), ('Rabia', 'NOUN'), ('M.', 'NOUN'), ('Zayed', 'NOUN'), (',', '.'), ('San', 'NOUN'), ('Francisco', 'NOUN'), (',', '.'), ('$', '.'), ('50,000', 'NUM'), ('*U*', 'X'), ('.', '.')]]\n"
     ]
    }
   ],
   "source": [
    "# Splitting into train and test\n",
    "random.seed(1234)\n",
    "train_set, test_set = train_test_split(nltk_data,test_size=0.05)\n",
    "\n",
    "print(len(train_set))\n",
    "print(len(test_set))\n",
    "print(train_set[:40])"
   ]
  },
  {
   "cell_type": "code",
   "execution_count": 70,
   "metadata": {},
   "outputs": [
    {
     "data": {
      "text/plain": [
       "95453"
      ]
     },
     "execution_count": 70,
     "metadata": {},
     "output_type": "execute_result"
    }
   ],
   "source": [
    "# Getting list of tagged words\n",
    "train_tagged_words = [tup for sent in train_set for tup in sent]\n",
    "len(train_tagged_words)"
   ]
  },
  {
   "cell_type": "code",
   "execution_count": 71,
   "metadata": {},
   "outputs": [
    {
     "name": "stdout",
     "output_type": "stream",
     "text": [
      "12037\n"
     ]
    }
   ],
   "source": [
    "# vocabulary\n",
    "tokens = [pair[0] for pair in train_tagged_words]\n",
    "V = set(tokens)\n",
    "print(len(V))"
   ]
  },
  {
   "cell_type": "code",
   "execution_count": 72,
   "metadata": {},
   "outputs": [
    {
     "data": {
      "text/plain": [
       "12"
      ]
     },
     "execution_count": 72,
     "metadata": {},
     "output_type": "execute_result"
    }
   ],
   "source": [
    "# number of tags\n",
    "T = set([pair[1] for pair in train_tagged_words])\n",
    "len(T)"
   ]
  },
  {
   "cell_type": "code",
   "execution_count": 73,
   "metadata": {},
   "outputs": [
    {
     "name": "stdout",
     "output_type": "stream",
     "text": [
      "{'NUM', 'CONJ', 'PRON', 'ADV', 'ADJ', 'PRT', 'ADP', 'X', 'NOUN', '.', 'VERB', 'DET'}\n"
     ]
    }
   ],
   "source": [
    "print(T)"
   ]
  },
  {
   "cell_type": "markdown",
   "metadata": {},
   "source": [
    "### Build the vanilla Viterbi based POS tagger"
   ]
  },
  {
   "cell_type": "code",
   "execution_count": 74,
   "metadata": {},
   "outputs": [],
   "source": [
    "# computing P(w/t) and storing in T x V matrix\n",
    "t = len(T)\n",
    "v = len(V)\n",
    "w_given_t = np.zeros((t, v))"
   ]
  },
  {
   "cell_type": "code",
   "execution_count": 75,
   "metadata": {},
   "outputs": [],
   "source": [
    "# compute word given tag: Emission Probability\n",
    "def word_given_tag(word, tag, train_bag = train_tagged_words):\n",
    "    tag_list = [pair for pair in train_bag if pair[1]==tag]\n",
    "    count_tag = len(tag_list)\n",
    "    w_given_tag_list = [pair[0] for pair in tag_list if pair[0]==word]\n",
    "    count_w_given_tag = len(w_given_tag_list)\n",
    "    \n",
    "    return (count_w_given_tag, count_tag)"
   ]
  },
  {
   "cell_type": "code",
   "execution_count": 76,
   "metadata": {},
   "outputs": [],
   "source": [
    "# compute tag given tag: tag2(t2) given tag1 (t1), i.e. Transition Probability\n",
    "\n",
    "def t2_given_t1(t2, t1, train_bag = train_tagged_words):\n",
    "    tags = [pair[1] for pair in train_bag]\n",
    "    count_t1 = len([t for t in tags if t==t1])\n",
    "    count_t2_t1 = 0\n",
    "    for index in range(len(tags)-1):\n",
    "        if tags[index]==t1 and tags[index+1] == t2:\n",
    "            count_t2_t1 += 1\n",
    "    return (count_t2_t1, count_t1)"
   ]
  },
  {
   "cell_type": "code",
   "execution_count": 77,
   "metadata": {},
   "outputs": [],
   "source": [
    "# creating t x t transition matrix of tags\n",
    "# each column is t2, each row is t1\n",
    "# thus M(i, j) represents P(tj given ti)\n",
    "\n",
    "tags_matrix = np.zeros((len(T), len(T)), dtype='float32')\n",
    "for i, t1 in enumerate(list(T)):\n",
    "    for j, t2 in enumerate(list(T)): \n",
    "        tags_matrix[i, j] = t2_given_t1(t2, t1)[0]/t2_given_t1(t2, t1)[1]"
   ]
  },
  {
   "cell_type": "code",
   "execution_count": 78,
   "metadata": {},
   "outputs": [
    {
     "data": {
      "text/plain": [
       "array([[1.81102365e-01, 1.39309512e-02, 1.51423377e-03, 2.72562075e-03,\n",
       "        3.39188352e-02, 2.54391283e-02, 3.57359163e-02, 2.11992726e-01,\n",
       "        3.53119314e-01, 1.19018778e-01, 1.81708056e-02, 3.33131431e-03],\n",
       "       [4.09302339e-02, 4.65116289e-04, 5.90697676e-02, 5.53488359e-02,\n",
       "        1.17209300e-01, 5.11627924e-03, 5.48837222e-02, 8.83720908e-03,\n",
       "        3.42325568e-01, 3.53488363e-02, 1.60465121e-01, 1.19999997e-01],\n",
       "       [7.30769243e-03, 4.99999989e-03, 7.30769243e-03, 3.50000001e-02,\n",
       "        7.03846142e-02, 1.26923081e-02, 2.03846153e-02, 9.30769220e-02,\n",
       "        2.09615380e-01, 4.19230759e-02, 4.87692297e-01, 9.61538497e-03],\n",
       "       [3.19680311e-02, 7.32600736e-03, 1.53180156e-02, 7.55910724e-02,\n",
       "        1.31202132e-01, 1.43190147e-02, 1.18881121e-01, 2.19780225e-02,\n",
       "        3.23010311e-02, 1.37196139e-01, 3.45654339e-01, 6.82650656e-02],\n",
       "       [2.05795188e-02, 1.69575233e-02, 6.58544595e-04, 4.28054016e-03,\n",
       "        6.65130094e-02, 1.07013499e-02, 7.68850818e-02, 2.10734271e-02,\n",
       "        6.99374378e-01, 6.61837310e-02, 1.18538029e-02, 4.93908441e-03],\n",
       "       [5.27695827e-02, 2.29432969e-03, 1.76991150e-02, 9.83284134e-03,\n",
       "        8.58734846e-02, 1.96656841e-03, 1.96656827e-02, 1.37659786e-02,\n",
       "        2.47132093e-01, 4.29367423e-02, 4.04129803e-01, 1.01933792e-01],\n",
       "       [6.36189282e-02, 8.52514931e-04, 6.90537095e-02, 1.39599321e-02,\n",
       "        1.06457800e-01, 1.27877237e-03, 1.70502979e-02, 3.41005959e-02,\n",
       "        3.19799662e-01, 4.00682017e-02, 8.41858517e-03, 3.25341016e-01],\n",
       "       [1.75242953e-03, 1.01959538e-02, 5.55998087e-02, 2.54898835e-02,\n",
       "        1.64091121e-02, 1.85438901e-01, 1.45451650e-01, 7.50358477e-02,\n",
       "        6.24502152e-02, 1.62816629e-01, 2.04715624e-01, 5.46439365e-02],\n",
       "       [9.26095434e-03, 4.29005437e-02, 4.68538376e-03, 1.69845168e-02,\n",
       "        1.18964827e-02, 4.37790565e-02, 1.78227603e-01, 2.90274173e-02,\n",
       "        2.63992101e-01, 2.39430428e-01, 1.46747679e-01, 1.30678285e-02],\n",
       "       [8.02558064e-02, 5.76472692e-02, 6.66546598e-02, 5.26031330e-02,\n",
       "        4.45865616e-02, 2.52206810e-03, 9.09745991e-02, 2.71122325e-02,\n",
       "        2.20230594e-01, 9.36768129e-02, 8.90830457e-02, 1.74563140e-01],\n",
       "       [2.14086249e-02, 5.42972377e-03, 3.49829346e-02, 8.19112659e-02,\n",
       "        6.52342513e-02, 3.15699652e-02, 9.16847661e-02, 2.18585163e-01,\n",
       "        1.11231774e-01, 3.52156386e-02, 1.69097111e-01, 1.33648768e-01],\n",
       "       [2.25328356e-02, 4.81985771e-04, 3.49439681e-03, 1.27726234e-02,\n",
       "        2.05325946e-01, 2.40992886e-04, 9.27822664e-03, 4.54271585e-02,\n",
       "        6.37185216e-01, 1.75924804e-02, 4.02458124e-02, 5.42234024e-03]],\n",
       "      dtype=float32)"
      ]
     },
     "execution_count": 78,
     "metadata": {},
     "output_type": "execute_result"
    }
   ],
   "source": [
    "tags_matrix"
   ]
  },
  {
   "cell_type": "code",
   "execution_count": 79,
   "metadata": {},
   "outputs": [
    {
     "data": {
      "text/html": [
       "<div>\n",
       "<style scoped>\n",
       "    .dataframe tbody tr th:only-of-type {\n",
       "        vertical-align: middle;\n",
       "    }\n",
       "\n",
       "    .dataframe tbody tr th {\n",
       "        vertical-align: top;\n",
       "    }\n",
       "\n",
       "    .dataframe thead th {\n",
       "        text-align: right;\n",
       "    }\n",
       "</style>\n",
       "<table border=\"1\" class=\"dataframe\">\n",
       "  <thead>\n",
       "    <tr style=\"text-align: right;\">\n",
       "      <th></th>\n",
       "      <th>NUM</th>\n",
       "      <th>CONJ</th>\n",
       "      <th>PRON</th>\n",
       "      <th>ADV</th>\n",
       "      <th>ADJ</th>\n",
       "      <th>PRT</th>\n",
       "      <th>ADP</th>\n",
       "      <th>X</th>\n",
       "      <th>NOUN</th>\n",
       "      <th>.</th>\n",
       "      <th>VERB</th>\n",
       "      <th>DET</th>\n",
       "    </tr>\n",
       "  </thead>\n",
       "  <tbody>\n",
       "    <tr>\n",
       "      <th>NUM</th>\n",
       "      <td>0.181102</td>\n",
       "      <td>0.013931</td>\n",
       "      <td>0.001514</td>\n",
       "      <td>0.002726</td>\n",
       "      <td>0.033919</td>\n",
       "      <td>0.025439</td>\n",
       "      <td>0.035736</td>\n",
       "      <td>0.211993</td>\n",
       "      <td>0.353119</td>\n",
       "      <td>0.119019</td>\n",
       "      <td>0.018171</td>\n",
       "      <td>0.003331</td>\n",
       "    </tr>\n",
       "    <tr>\n",
       "      <th>CONJ</th>\n",
       "      <td>0.040930</td>\n",
       "      <td>0.000465</td>\n",
       "      <td>0.059070</td>\n",
       "      <td>0.055349</td>\n",
       "      <td>0.117209</td>\n",
       "      <td>0.005116</td>\n",
       "      <td>0.054884</td>\n",
       "      <td>0.008837</td>\n",
       "      <td>0.342326</td>\n",
       "      <td>0.035349</td>\n",
       "      <td>0.160465</td>\n",
       "      <td>0.120000</td>\n",
       "    </tr>\n",
       "    <tr>\n",
       "      <th>PRON</th>\n",
       "      <td>0.007308</td>\n",
       "      <td>0.005000</td>\n",
       "      <td>0.007308</td>\n",
       "      <td>0.035000</td>\n",
       "      <td>0.070385</td>\n",
       "      <td>0.012692</td>\n",
       "      <td>0.020385</td>\n",
       "      <td>0.093077</td>\n",
       "      <td>0.209615</td>\n",
       "      <td>0.041923</td>\n",
       "      <td>0.487692</td>\n",
       "      <td>0.009615</td>\n",
       "    </tr>\n",
       "    <tr>\n",
       "      <th>ADV</th>\n",
       "      <td>0.031968</td>\n",
       "      <td>0.007326</td>\n",
       "      <td>0.015318</td>\n",
       "      <td>0.075591</td>\n",
       "      <td>0.131202</td>\n",
       "      <td>0.014319</td>\n",
       "      <td>0.118881</td>\n",
       "      <td>0.021978</td>\n",
       "      <td>0.032301</td>\n",
       "      <td>0.137196</td>\n",
       "      <td>0.345654</td>\n",
       "      <td>0.068265</td>\n",
       "    </tr>\n",
       "    <tr>\n",
       "      <th>ADJ</th>\n",
       "      <td>0.020580</td>\n",
       "      <td>0.016958</td>\n",
       "      <td>0.000659</td>\n",
       "      <td>0.004281</td>\n",
       "      <td>0.066513</td>\n",
       "      <td>0.010701</td>\n",
       "      <td>0.076885</td>\n",
       "      <td>0.021073</td>\n",
       "      <td>0.699374</td>\n",
       "      <td>0.066184</td>\n",
       "      <td>0.011854</td>\n",
       "      <td>0.004939</td>\n",
       "    </tr>\n",
       "    <tr>\n",
       "      <th>PRT</th>\n",
       "      <td>0.052770</td>\n",
       "      <td>0.002294</td>\n",
       "      <td>0.017699</td>\n",
       "      <td>0.009833</td>\n",
       "      <td>0.085873</td>\n",
       "      <td>0.001967</td>\n",
       "      <td>0.019666</td>\n",
       "      <td>0.013766</td>\n",
       "      <td>0.247132</td>\n",
       "      <td>0.042937</td>\n",
       "      <td>0.404130</td>\n",
       "      <td>0.101934</td>\n",
       "    </tr>\n",
       "    <tr>\n",
       "      <th>ADP</th>\n",
       "      <td>0.063619</td>\n",
       "      <td>0.000853</td>\n",
       "      <td>0.069054</td>\n",
       "      <td>0.013960</td>\n",
       "      <td>0.106458</td>\n",
       "      <td>0.001279</td>\n",
       "      <td>0.017050</td>\n",
       "      <td>0.034101</td>\n",
       "      <td>0.319800</td>\n",
       "      <td>0.040068</td>\n",
       "      <td>0.008419</td>\n",
       "      <td>0.325341</td>\n",
       "    </tr>\n",
       "    <tr>\n",
       "      <th>X</th>\n",
       "      <td>0.001752</td>\n",
       "      <td>0.010196</td>\n",
       "      <td>0.055600</td>\n",
       "      <td>0.025490</td>\n",
       "      <td>0.016409</td>\n",
       "      <td>0.185439</td>\n",
       "      <td>0.145452</td>\n",
       "      <td>0.075036</td>\n",
       "      <td>0.062450</td>\n",
       "      <td>0.162817</td>\n",
       "      <td>0.204716</td>\n",
       "      <td>0.054644</td>\n",
       "    </tr>\n",
       "    <tr>\n",
       "      <th>NOUN</th>\n",
       "      <td>0.009261</td>\n",
       "      <td>0.042901</td>\n",
       "      <td>0.004685</td>\n",
       "      <td>0.016985</td>\n",
       "      <td>0.011896</td>\n",
       "      <td>0.043779</td>\n",
       "      <td>0.178228</td>\n",
       "      <td>0.029027</td>\n",
       "      <td>0.263992</td>\n",
       "      <td>0.239430</td>\n",
       "      <td>0.146748</td>\n",
       "      <td>0.013068</td>\n",
       "    </tr>\n",
       "    <tr>\n",
       "      <th>.</th>\n",
       "      <td>0.080256</td>\n",
       "      <td>0.057647</td>\n",
       "      <td>0.066655</td>\n",
       "      <td>0.052603</td>\n",
       "      <td>0.044587</td>\n",
       "      <td>0.002522</td>\n",
       "      <td>0.090975</td>\n",
       "      <td>0.027112</td>\n",
       "      <td>0.220231</td>\n",
       "      <td>0.093677</td>\n",
       "      <td>0.089083</td>\n",
       "      <td>0.174563</td>\n",
       "    </tr>\n",
       "    <tr>\n",
       "      <th>VERB</th>\n",
       "      <td>0.021409</td>\n",
       "      <td>0.005430</td>\n",
       "      <td>0.034983</td>\n",
       "      <td>0.081911</td>\n",
       "      <td>0.065234</td>\n",
       "      <td>0.031570</td>\n",
       "      <td>0.091685</td>\n",
       "      <td>0.218585</td>\n",
       "      <td>0.111232</td>\n",
       "      <td>0.035216</td>\n",
       "      <td>0.169097</td>\n",
       "      <td>0.133649</td>\n",
       "    </tr>\n",
       "    <tr>\n",
       "      <th>DET</th>\n",
       "      <td>0.022533</td>\n",
       "      <td>0.000482</td>\n",
       "      <td>0.003494</td>\n",
       "      <td>0.012773</td>\n",
       "      <td>0.205326</td>\n",
       "      <td>0.000241</td>\n",
       "      <td>0.009278</td>\n",
       "      <td>0.045427</td>\n",
       "      <td>0.637185</td>\n",
       "      <td>0.017592</td>\n",
       "      <td>0.040246</td>\n",
       "      <td>0.005422</td>\n",
       "    </tr>\n",
       "  </tbody>\n",
       "</table>\n",
       "</div>"
      ],
      "text/plain": [
       "           NUM      CONJ      PRON       ADV       ADJ       PRT       ADP  \\\n",
       "NUM   0.181102  0.013931  0.001514  0.002726  0.033919  0.025439  0.035736   \n",
       "CONJ  0.040930  0.000465  0.059070  0.055349  0.117209  0.005116  0.054884   \n",
       "PRON  0.007308  0.005000  0.007308  0.035000  0.070385  0.012692  0.020385   \n",
       "ADV   0.031968  0.007326  0.015318  0.075591  0.131202  0.014319  0.118881   \n",
       "ADJ   0.020580  0.016958  0.000659  0.004281  0.066513  0.010701  0.076885   \n",
       "PRT   0.052770  0.002294  0.017699  0.009833  0.085873  0.001967  0.019666   \n",
       "ADP   0.063619  0.000853  0.069054  0.013960  0.106458  0.001279  0.017050   \n",
       "X     0.001752  0.010196  0.055600  0.025490  0.016409  0.185439  0.145452   \n",
       "NOUN  0.009261  0.042901  0.004685  0.016985  0.011896  0.043779  0.178228   \n",
       ".     0.080256  0.057647  0.066655  0.052603  0.044587  0.002522  0.090975   \n",
       "VERB  0.021409  0.005430  0.034983  0.081911  0.065234  0.031570  0.091685   \n",
       "DET   0.022533  0.000482  0.003494  0.012773  0.205326  0.000241  0.009278   \n",
       "\n",
       "             X      NOUN         .      VERB       DET  \n",
       "NUM   0.211993  0.353119  0.119019  0.018171  0.003331  \n",
       "CONJ  0.008837  0.342326  0.035349  0.160465  0.120000  \n",
       "PRON  0.093077  0.209615  0.041923  0.487692  0.009615  \n",
       "ADV   0.021978  0.032301  0.137196  0.345654  0.068265  \n",
       "ADJ   0.021073  0.699374  0.066184  0.011854  0.004939  \n",
       "PRT   0.013766  0.247132  0.042937  0.404130  0.101934  \n",
       "ADP   0.034101  0.319800  0.040068  0.008419  0.325341  \n",
       "X     0.075036  0.062450  0.162817  0.204716  0.054644  \n",
       "NOUN  0.029027  0.263992  0.239430  0.146748  0.013068  \n",
       ".     0.027112  0.220231  0.093677  0.089083  0.174563  \n",
       "VERB  0.218585  0.111232  0.035216  0.169097  0.133649  \n",
       "DET   0.045427  0.637185  0.017592  0.040246  0.005422  "
      ]
     },
     "execution_count": 79,
     "metadata": {},
     "output_type": "execute_result"
    }
   ],
   "source": [
    "# convert the matrix to a df for better readability\n",
    "tags_df = pd.DataFrame(tags_matrix, columns = list(T), index=list(T))\n",
    "tags_df"
   ]
  },
  {
   "cell_type": "code",
   "execution_count": 80,
   "metadata": {},
   "outputs": [],
   "source": [
    "# Viterbi Heuristic\n",
    "def Viterbi(words, train_bag = train_tagged_words):\n",
    "    state = []\n",
    "    T = list(set([pair[1] for pair in train_bag]))\n",
    "    \n",
    "    for key, word in enumerate(words):\n",
    "        #initialise list of probability column for a given observation\n",
    "        p = [] \n",
    "        for tag in T:\n",
    "            if key == 0:\n",
    "                transition_p = tags_df.loc['.', tag]\n",
    "            else:\n",
    "                transition_p = tags_df.loc[state[-1], tag]\n",
    "                \n",
    "            # compute emission and state probabilities\n",
    "            emission_p = word_given_tag(words[key], tag)[0]/word_given_tag(words[key], tag)[1]\n",
    "            state_probability = emission_p * transition_p\n",
    "            p.append(state_probability)\n",
    "            \n",
    "        pmax = max(p)\n",
    "        # getting state for which probability is maximum\n",
    "        state_max = T[p.index(pmax)] \n",
    "        state.append(state_max)\n",
    "    return list(zip(words, state))"
   ]
  },
  {
   "cell_type": "code",
   "execution_count": 81,
   "metadata": {},
   "outputs": [
    {
     "data": {
      "text/plain": [
       "[[('Mr.', 'NOUN'),\n",
       "  ('Neuberger', 'NOUN'),\n",
       "  ('realized', 'VERB'),\n",
       "  ('that', 'ADP'),\n",
       "  (',', '.'),\n",
       "  ('although', 'ADP'),\n",
       "  ('of', 'ADP'),\n",
       "  ('Italian', 'ADJ'),\n",
       "  ('ancestry', 'NOUN'),\n",
       "  (',', '.'),\n",
       "  ('Mr.', 'NOUN'),\n",
       "  ('Mariotta', 'NOUN'),\n",
       "  ('still', 'ADV'),\n",
       "  ('could', 'VERB'),\n",
       "  ('qualify', 'VERB'),\n",
       "  ('as', 'ADP'),\n",
       "  ('a', 'DET'),\n",
       "  ('minority', 'NOUN'),\n",
       "  ('person', 'NOUN'),\n",
       "  ('since', 'ADP'),\n",
       "  ('he', 'PRON'),\n",
       "  ('was', 'VERB'),\n",
       "  ('born', 'VERB'),\n",
       "  ('*-1', 'X'),\n",
       "  ('in', 'ADP'),\n",
       "  ('Puerto', 'NOUN'),\n",
       "  ('Rico', 'NOUN'),\n",
       "  ('.', '.')],\n",
       " [('Also', 'ADV'),\n",
       "  (',', '.'),\n",
       "  ('a', 'DET'),\n",
       "  ('Communist', 'NOUN'),\n",
       "  ('official', 'NOUN'),\n",
       "  ('for', 'ADP'),\n",
       "  ('the', 'DET'),\n",
       "  ('first', 'ADJ'),\n",
       "  ('time', 'NOUN'),\n",
       "  ('said', 'VERB'),\n",
       "  ('0', 'X'),\n",
       "  ('the', 'DET'),\n",
       "  ('future', 'NOUN'),\n",
       "  ('of', 'ADP'),\n",
       "  ('the', 'DET'),\n",
       "  ('Berlin', 'NOUN'),\n",
       "  ('Wall', 'NOUN'),\n",
       "  ('could', 'VERB'),\n",
       "  ('be', 'VERB'),\n",
       "  ('open', 'ADJ'),\n",
       "  ('to', 'PRT'),\n",
       "  ('discussion', 'NOUN'),\n",
       "  ('.', '.')],\n",
       " [('The', 'DET'),\n",
       "  ('$', '.'),\n",
       "  ('35.7', 'NUM'),\n",
       "  ('million', 'NUM'),\n",
       "  ('*U*', 'X'),\n",
       "  ('net', 'ADJ'),\n",
       "  ('loss', 'NOUN'),\n",
       "  ('equals', 'VERB'),\n",
       "  ('86', 'NUM'),\n",
       "  ('cents', 'NOUN'),\n",
       "  ('a', 'DET'),\n",
       "  ('share', 'NOUN'),\n",
       "  ('.', '.')],\n",
       " [('Under', 'ADP'),\n",
       "  ('the', 'DET'),\n",
       "  ('state', 'NOUN'),\n",
       "  (\"'s\", 'PRT'),\n",
       "  ('Education', 'NOUN'),\n",
       "  ('Improvement', 'NOUN'),\n",
       "  ('Act', 'NOUN'),\n",
       "  (',', '.'),\n",
       "  ('low', 'ADJ'),\n",
       "  ('test', 'NOUN'),\n",
       "  ('scores', 'NOUN'),\n",
       "  ('can', 'VERB'),\n",
       "  ('block', 'VERB'),\n",
       "  ('students', 'NOUN'),\n",
       "  (\"'\", 'PRT'),\n",
       "  ('promotions', 'NOUN'),\n",
       "  ('or', 'CONJ'),\n",
       "  ('force', 'VERB'),\n",
       "  ('entire', 'ADJ'),\n",
       "  ('districts', 'NOUN'),\n",
       "  ('into', 'ADP'),\n",
       "  ('wrenching', 'ADJ'),\n",
       "  (',', '.'),\n",
       "  ('state-supervised', 'ADJ'),\n",
       "  ('``', '.'),\n",
       "  ('interventions', 'NOUN'),\n",
       "  (\"''\", '.'),\n",
       "  ('that', 'DET'),\n",
       "  ('*T*-86', 'X'),\n",
       "  ('can', 'VERB'),\n",
       "  ('mean', 'VERB'),\n",
       "  ('firings', 'NOUN'),\n",
       "  ('.', '.')],\n",
       " [('An', 'DET'),\n",
       "  ('index-arbitrage', 'ADJ'),\n",
       "  ('trade', 'NOUN'),\n",
       "  ('is', 'VERB'),\n",
       "  ('never', 'ADV'),\n",
       "  ('executed', 'VERB'),\n",
       "  ('unless', 'ADP'),\n",
       "  ('there', 'DET'),\n",
       "  ('is', 'VERB'),\n",
       "  ('sufficient', 'ADJ'),\n",
       "  ('difference', 'NOUN'),\n",
       "  ('between', 'ADP'),\n",
       "  ('the', 'DET'),\n",
       "  ('markets', 'NOUN'),\n",
       "  ('in', 'ADP'),\n",
       "  ('New', 'NOUN'),\n",
       "  ('York', 'NOUN'),\n",
       "  ('and', 'CONJ'),\n",
       "  ('Chicago', 'NOUN'),\n",
       "  ('0', 'X'),\n",
       "  ('*T*-1', 'X'),\n",
       "  ('to', 'PRT'),\n",
       "  ('cover', 'VERB'),\n",
       "  ('all', 'DET'),\n",
       "  ('transaction', 'NOUN'),\n",
       "  ('costs', 'NOUN'),\n",
       "  ('.', '.')]]"
      ]
     },
     "execution_count": 81,
     "metadata": {},
     "output_type": "execute_result"
    }
   ],
   "source": [
    "# Testing  Vanilla Viterbi algorithm on a few sample sentences of test dataset\n",
    "\n",
    "random.seed(1234)\n",
    "\n",
    "# choose random 5 sents\n",
    "rndom = [random.randint(1,len(test_set)) for x in range(5)]\n",
    "\n",
    "# list of sents\n",
    "test_run = [test_set[i] for i in rndom]\n",
    "\n",
    "# list of tagged words\n",
    "test_run_base = [tup for sent in test_run for tup in sent]\n",
    "\n",
    "# list of untagged words\n",
    "test_tagged_words = [tup[0] for sent in test_run for tup in sent]\n",
    "test_run"
   ]
  },
  {
   "cell_type": "code",
   "execution_count": 82,
   "metadata": {},
   "outputs": [
    {
     "data": {
      "text/plain": [
       "[[('Mr.', 'NOUN'),\n",
       "  ('Neuberger', 'NOUN'),\n",
       "  ('realized', 'VERB'),\n",
       "  ('that', 'ADP'),\n",
       "  (',', '.'),\n",
       "  ('although', 'ADP'),\n",
       "  ('of', 'ADP'),\n",
       "  ('Italian', 'ADJ'),\n",
       "  ('ancestry', 'NOUN'),\n",
       "  (',', '.'),\n",
       "  ('Mr.', 'NOUN'),\n",
       "  ('Mariotta', 'NOUN'),\n",
       "  ('still', 'ADV'),\n",
       "  ('could', 'VERB'),\n",
       "  ('qualify', 'VERB'),\n",
       "  ('as', 'ADP'),\n",
       "  ('a', 'DET'),\n",
       "  ('minority', 'NOUN'),\n",
       "  ('person', 'NOUN'),\n",
       "  ('since', 'ADP'),\n",
       "  ('he', 'PRON'),\n",
       "  ('was', 'VERB'),\n",
       "  ('born', 'VERB'),\n",
       "  ('*-1', 'X'),\n",
       "  ('in', 'ADP'),\n",
       "  ('Puerto', 'NOUN'),\n",
       "  ('Rico', 'NOUN'),\n",
       "  ('.', '.')],\n",
       " [('Also', 'ADV'),\n",
       "  (',', '.'),\n",
       "  ('a', 'DET'),\n",
       "  ('Communist', 'NOUN'),\n",
       "  ('official', 'NOUN'),\n",
       "  ('for', 'ADP'),\n",
       "  ('the', 'DET'),\n",
       "  ('first', 'ADJ'),\n",
       "  ('time', 'NOUN'),\n",
       "  ('said', 'VERB'),\n",
       "  ('0', 'X'),\n",
       "  ('the', 'DET'),\n",
       "  ('future', 'NOUN'),\n",
       "  ('of', 'ADP'),\n",
       "  ('the', 'DET'),\n",
       "  ('Berlin', 'NOUN'),\n",
       "  ('Wall', 'NOUN'),\n",
       "  ('could', 'VERB'),\n",
       "  ('be', 'VERB'),\n",
       "  ('open', 'ADJ'),\n",
       "  ('to', 'PRT'),\n",
       "  ('discussion', 'NOUN'),\n",
       "  ('.', '.')],\n",
       " [('The', 'DET'),\n",
       "  ('$', '.'),\n",
       "  ('35.7', 'NUM'),\n",
       "  ('million', 'NUM'),\n",
       "  ('*U*', 'X'),\n",
       "  ('net', 'ADJ'),\n",
       "  ('loss', 'NOUN'),\n",
       "  ('equals', 'VERB'),\n",
       "  ('86', 'NUM'),\n",
       "  ('cents', 'NOUN'),\n",
       "  ('a', 'DET'),\n",
       "  ('share', 'NOUN'),\n",
       "  ('.', '.')],\n",
       " [('Under', 'ADP'),\n",
       "  ('the', 'DET'),\n",
       "  ('state', 'NOUN'),\n",
       "  (\"'s\", 'PRT'),\n",
       "  ('Education', 'NOUN'),\n",
       "  ('Improvement', 'NOUN'),\n",
       "  ('Act', 'NOUN'),\n",
       "  (',', '.'),\n",
       "  ('low', 'ADJ'),\n",
       "  ('test', 'NOUN'),\n",
       "  ('scores', 'NOUN'),\n",
       "  ('can', 'VERB'),\n",
       "  ('block', 'VERB'),\n",
       "  ('students', 'NOUN'),\n",
       "  (\"'\", 'PRT'),\n",
       "  ('promotions', 'NOUN'),\n",
       "  ('or', 'CONJ'),\n",
       "  ('force', 'VERB'),\n",
       "  ('entire', 'ADJ'),\n",
       "  ('districts', 'NOUN'),\n",
       "  ('into', 'ADP'),\n",
       "  ('wrenching', 'ADJ'),\n",
       "  (',', '.'),\n",
       "  ('state-supervised', 'ADJ'),\n",
       "  ('``', '.'),\n",
       "  ('interventions', 'NOUN'),\n",
       "  (\"''\", '.'),\n",
       "  ('that', 'DET'),\n",
       "  ('*T*-86', 'X'),\n",
       "  ('can', 'VERB'),\n",
       "  ('mean', 'VERB'),\n",
       "  ('firings', 'NOUN'),\n",
       "  ('.', '.')],\n",
       " [('An', 'DET'),\n",
       "  ('index-arbitrage', 'ADJ'),\n",
       "  ('trade', 'NOUN'),\n",
       "  ('is', 'VERB'),\n",
       "  ('never', 'ADV'),\n",
       "  ('executed', 'VERB'),\n",
       "  ('unless', 'ADP'),\n",
       "  ('there', 'DET'),\n",
       "  ('is', 'VERB'),\n",
       "  ('sufficient', 'ADJ'),\n",
       "  ('difference', 'NOUN'),\n",
       "  ('between', 'ADP'),\n",
       "  ('the', 'DET'),\n",
       "  ('markets', 'NOUN'),\n",
       "  ('in', 'ADP'),\n",
       "  ('New', 'NOUN'),\n",
       "  ('York', 'NOUN'),\n",
       "  ('and', 'CONJ'),\n",
       "  ('Chicago', 'NOUN'),\n",
       "  ('0', 'X'),\n",
       "  ('*T*-1', 'X'),\n",
       "  ('to', 'PRT'),\n",
       "  ('cover', 'VERB'),\n",
       "  ('all', 'DET'),\n",
       "  ('transaction', 'NOUN'),\n",
       "  ('costs', 'NOUN'),\n",
       "  ('.', '.')]]"
      ]
     },
     "execution_count": 82,
     "metadata": {},
     "output_type": "execute_result"
    }
   ],
   "source": [
    "test_s=[test_set[i] for i in rndom]\n",
    "test_s"
   ]
  },
  {
   "cell_type": "code",
   "execution_count": 83,
   "metadata": {},
   "outputs": [],
   "source": [
    "# tagging the test sentences\n",
    "start = time.time()\n",
    "tagged_seq = Viterbi(test_tagged_words)\n",
    "end = time.time()\n",
    "difference = end-start"
   ]
  },
  {
   "cell_type": "code",
   "execution_count": 84,
   "metadata": {},
   "outputs": [
    {
     "name": "stdout",
     "output_type": "stream",
     "text": [
      "Time taken in seconds:  40.342307329177856\n",
      "[('Mr.', 'NOUN'), ('Neuberger', 'NOUN'), ('realized', 'VERB'), ('that', 'ADP'), (',', '.'), ('although', 'ADP'), ('of', 'ADP'), ('Italian', 'ADJ'), ('ancestry', 'NUM'), (',', '.'), ('Mr.', 'NOUN'), ('Mariotta', 'NOUN'), ('still', 'ADV'), ('could', 'VERB'), ('qualify', 'VERB'), ('as', 'ADP'), ('a', 'DET'), ('minority', 'NOUN'), ('person', 'NOUN'), ('since', 'ADP'), ('he', 'PRON'), ('was', 'VERB'), ('born', 'NUM'), ('*-1', 'X'), ('in', 'ADP'), ('Puerto', 'NUM'), ('Rico', 'NUM'), ('.', '.'), ('Also', 'ADV'), (',', '.'), ('a', 'DET'), ('Communist', 'NOUN'), ('official', 'NOUN'), ('for', 'ADP'), ('the', 'DET'), ('first', 'ADJ'), ('time', 'NOUN'), ('said', 'VERB'), ('0', 'X'), ('the', 'DET'), ('future', 'ADJ'), ('of', 'ADP'), ('the', 'DET'), ('Berlin', 'NOUN'), ('Wall', 'NOUN'), ('could', 'VERB'), ('be', 'VERB'), ('open', 'ADJ'), ('to', 'PRT'), ('discussion', 'NOUN'), ('.', '.'), ('The', 'DET'), ('$', '.'), ('35.7', 'NUM'), ('million', 'NUM'), ('*U*', 'X'), ('net', 'ADJ'), ('loss', 'NOUN'), ('equals', 'NUM'), ('86', 'NUM'), ('cents', 'NOUN'), ('a', 'DET'), ('share', 'NOUN'), ('.', '.'), ('Under', 'ADP'), ('the', 'DET'), ('state', 'NOUN'), (\"'s\", 'PRT'), ('Education', 'NOUN'), ('Improvement', 'NOUN'), ('Act', 'NOUN'), (',', '.'), ('low', 'ADJ'), ('test', 'NOUN'), ('scores', 'NOUN'), ('can', 'VERB'), ('block', 'VERB'), ('students', 'NOUN'), (\"'\", 'PRT'), ('promotions', 'NOUN'), ('or', 'CONJ'), ('force', 'NOUN'), ('entire', 'ADJ'), ('districts', 'NOUN'), ('into', 'ADP'), ('wrenching', 'NUM'), (',', '.'), ('state-supervised', 'NUM'), ('``', '.'), ('interventions', 'NUM'), (\"''\", '.'), ('that', 'DET'), ('*T*-86', 'NUM'), ('can', 'VERB'), ('mean', 'VERB'), ('firings', 'NUM'), ('.', '.'), ('An', 'DET'), ('index-arbitrage', 'ADJ'), ('trade', 'NOUN'), ('is', 'VERB'), ('never', 'ADV'), ('executed', 'VERB'), ('unless', 'ADP'), ('there', 'DET'), ('is', 'VERB'), ('sufficient', 'NUM'), ('difference', 'NOUN'), ('between', 'ADP'), ('the', 'DET'), ('markets', 'NOUN'), ('in', 'ADP'), ('New', 'NOUN'), ('York', 'NOUN'), ('and', 'CONJ'), ('Chicago', 'NOUN'), ('0', 'X'), ('*T*-1', 'X'), ('to', 'PRT'), ('cover', 'VERB'), ('all', 'DET'), ('transaction', 'NOUN'), ('costs', 'NOUN'), ('.', '.')]\n"
     ]
    }
   ],
   "source": [
    "print(\"Time taken in seconds: \", difference)\n",
    "print(tagged_seq)"
   ]
  },
  {
   "cell_type": "code",
   "execution_count": 85,
   "metadata": {},
   "outputs": [
    {
     "data": {
      "text/plain": [
       "0.8951612903225806"
      ]
     },
     "execution_count": 85,
     "metadata": {},
     "output_type": "execute_result"
    }
   ],
   "source": [
    "# accuracy\n",
    "check = [i for i, j in zip(tagged_seq, test_run_base) if i == j] \n",
    "accuracy = len(check)/len(tagged_seq)\n",
    "accuracy"
   ]
  },
  {
   "cell_type": "markdown",
   "metadata": {},
   "source": [
    "### Vanilla Viterbi has 89% accuracy."
   ]
  },
  {
   "cell_type": "code",
   "execution_count": 86,
   "metadata": {},
   "outputs": [
    {
     "data": {
      "text/plain": [
       "[[('Italian', 'ADJ'), (('ancestry', 'NUM'), ('ancestry', 'NOUN'))],\n",
       " [('was', 'VERB'), (('born', 'NUM'), ('born', 'VERB'))],\n",
       " [('in', 'ADP'), (('Puerto', 'NUM'), ('Puerto', 'NOUN'))],\n",
       " [('Puerto', 'NOUN'), (('Rico', 'NUM'), ('Rico', 'NOUN'))],\n",
       " [('the', 'DET'), (('future', 'ADJ'), ('future', 'NOUN'))],\n",
       " [('loss', 'NOUN'), (('equals', 'NUM'), ('equals', 'VERB'))],\n",
       " [('or', 'CONJ'), (('force', 'NOUN'), ('force', 'VERB'))],\n",
       " [('into', 'ADP'), (('wrenching', 'NUM'), ('wrenching', 'ADJ'))],\n",
       " [(',', '.'), (('state-supervised', 'NUM'), ('state-supervised', 'ADJ'))],\n",
       " [('``', '.'), (('interventions', 'NUM'), ('interventions', 'NOUN'))],\n",
       " [('that', 'DET'), (('*T*-86', 'NUM'), ('*T*-86', 'X'))],\n",
       " [('mean', 'VERB'), (('firings', 'NUM'), ('firings', 'NOUN'))],\n",
       " [('is', 'VERB'), (('sufficient', 'NUM'), ('sufficient', 'ADJ'))]]"
      ]
     },
     "execution_count": 86,
     "metadata": {},
     "output_type": "execute_result"
    }
   ],
   "source": [
    "incorrect_tagged_cases = [[test_run_base[i-1],j] for i, j in enumerate(zip(tagged_seq, test_run_base)) if j[0]!=j[1]]\n",
    "incorrect_tagged_cases"
   ]
  },
  {
   "cell_type": "markdown",
   "metadata": {},
   "source": [
    "Testing the Vanilla Viterbi on the Test file provided."
   ]
  },
  {
   "cell_type": "code",
   "execution_count": 87,
   "metadata": {},
   "outputs": [
    {
     "name": "stdout",
     "output_type": "stream",
     "text": [
      "[('Android', 'NUM'), ('is', 'VERB'), ('a', 'DET'), ('mobile', 'ADJ'), ('operating', 'NOUN'), ('system', 'NOUN'), ('developed', 'VERB'), ('by', 'ADP'), ('Google', 'NUM'), ('.', '.'), ('Android', 'NUM'), ('has', 'VERB'), ('been', 'VERB'), ('the', 'DET'), ('best-selling', 'ADJ'), ('OS', 'NUM'), ('worldwide', 'NUM'), ('on', 'ADP'), ('smartphones', 'NUM'), ('since', 'ADP'), ('2011', 'NUM'), ('and', 'CONJ'), ('on', 'ADP'), ('tablets', 'NOUN'), ('since', 'ADP'), ('2013', 'NUM'), ('.', '.'), ('Google', 'NUM'), ('and', 'CONJ'), ('Twitter', 'NUM'), ('made', 'VERB'), ('a', 'DET'), ('deal', 'NOUN'), ('in', 'ADP'), ('2015', 'NUM'), ('that', 'ADP'), ('gave', 'VERB'), ('Google', 'NUM'), ('access', 'NOUN'), ('to', 'PRT'), ('Twitter', 'NUM'), (\"'s\", 'PRT'), ('firehose', 'NUM'), ('.', '.'), ('Twitter', 'NUM'), ('is', 'VERB'), ('an', 'DET'), ('online', 'NUM'), ('news', 'NOUN'), ('and', 'CONJ'), ('social', 'ADJ'), ('networking', 'NOUN'), ('service', 'NOUN'), ('on', 'ADP'), ('which', 'DET'), ('users', 'NOUN'), ('post', 'VERB'), ('and', 'CONJ'), ('interact', 'NUM'), ('with', 'ADP'), ('messages', 'NUM'), ('known', 'VERB'), ('as', 'ADP'), ('tweets', 'NUM'), ('.', '.'), ('Before', 'ADP'), ('entering', 'VERB'), ('politics', 'NOUN'), (',', '.'), ('Donald', 'NOUN'), ('Trump', 'NOUN'), ('was', 'VERB'), ('a', 'DET'), ('domineering', 'NUM'), ('businessman', 'NOUN'), ('and', 'CONJ'), ('a', 'DET'), ('television', 'NOUN'), ('personality', 'NUM'), ('.', '.'), ('The', 'DET'), ('2018', 'NUM'), ('FIFA', 'NUM'), ('World', 'NOUN'), ('Cup', 'NUM'), ('is', 'VERB'), ('the', 'DET'), ('21st', 'NUM'), ('FIFA', 'NUM'), ('World', 'NOUN'), ('Cup', 'NUM'), (',', '.'), ('an', 'DET'), ('international', 'ADJ'), ('football', 'NOUN'), ('tournament', 'NUM'), ('contested', 'NUM'), ('once', 'ADV'), ('every', 'DET'), ('four', 'NUM'), ('years', 'NOUN'), ('.', '.'), ('This', 'DET'), ('is', 'VERB'), ('the', 'DET'), ('first', 'ADJ'), ('World', 'NOUN'), ('Cup', 'NUM'), ('to', 'PRT'), ('be', 'VERB'), ('held', 'VERB'), ('in', 'ADP'), ('Eastern', 'NOUN'), ('Europe', 'NOUN'), ('and', 'CONJ'), ('the', 'DET'), ('11th', 'ADJ'), ('time', 'NOUN'), ('that', 'ADP'), ('it', 'PRON'), ('has', 'VERB'), ('been', 'VERB'), ('held', 'VERB'), ('in', 'ADP'), ('Europe', 'NOUN'), ('.', '.'), ('Show', 'NOUN'), ('me', 'PRON'), ('the', 'DET'), ('cheapest', 'ADJ'), ('round', 'NOUN'), ('trips', 'NUM'), ('from', 'ADP'), ('Dallas', 'NOUN'), ('to', 'PRT'), ('Atlanta', 'NOUN'), ('I', 'PRON'), ('would', 'VERB'), ('like', 'ADP'), ('to', 'PRT'), ('see', 'VERB'), ('flights', 'NOUN'), ('from', 'ADP'), ('Denver', 'NOUN'), ('to', 'PRT'), ('Philadelphia', 'NOUN'), ('.', '.'), ('Show', 'NOUN'), ('me', 'PRON'), ('the', 'DET'), ('price', 'NOUN'), ('of', 'ADP'), ('the', 'DET'), ('flights', 'NOUN'), ('leaving', 'VERB'), ('Atlanta', 'NOUN'), ('at', 'ADP'), ('about', 'ADP'), ('3', 'NUM'), ('in', 'ADP'), ('the', 'DET'), ('afternoon', 'NOUN'), ('and', 'CONJ'), ('arriving', 'NUM'), ('in', 'ADP'), ('San', 'NOUN'), ('Francisco', 'NOUN'), ('.', '.'), ('NASA', 'NUM'), ('invited', 'NUM'), ('social', 'ADJ'), ('media', 'NOUN'), ('users', 'NOUN'), ('to', 'PRT'), ('experience', 'NOUN'), ('the', 'DET'), ('launch', 'NOUN'), ('of', 'ADP'), ('ICESAT-2', 'NUM'), ('Satellite', 'NUM'), ('.', '.')]\n",
      "58.87772536277771\n"
     ]
    }
   ],
   "source": [
    "## Testing\n",
    "file_content = open(\"Test_sentences.txt\").read()\n",
    "words = word_tokenize(file_content)\n",
    "words\n",
    "start = time.time()\n",
    "tagged_seq = Viterbi(words)\n",
    "end = time.time()\n",
    "difference = end-start\n",
    "print(tagged_seq)\n",
    "print(difference)"
   ]
  },
  {
   "cell_type": "markdown",
   "metadata": {},
   "source": [
    "### The problems in Vallina Viterbi Algorithm :\n",
    "### Assigning the first tag \"NUM\" to the unknown words in the training corpus."
   ]
  },
  {
   "cell_type": "markdown",
   "metadata": {},
   "source": [
    "### Solve the problem of unknown words"
   ]
  },
  {
   "cell_type": "markdown",
   "metadata": {},
   "source": [
    "#### 1) Solving the problem of assigning unknown words to the first tag \"NUM\" : changing the logic of Viterbi algorithm to call Unigram tagger backed by Rule based tagger when the emmission probability is 0."
   ]
  },
  {
   "cell_type": "code",
   "execution_count": 94,
   "metadata": {},
   "outputs": [],
   "source": [
    "# specify patterns for tagging\n",
    "#Solution1:\n",
    "patterns = [\n",
    "    (r'(The|the|A|a|An|an)$', 'DET'), # articles or determinants\n",
    "    (r'.*able$', 'ADJ'),              # adjectives\n",
    "    (r'.*ing$', 'VERB'),              # gerund\n",
    "    (r'.*ed$', 'VERB'),               # past tense\n",
    "    (r'.*es$', 'VERB'),               # 3rd singular present\n",
    "    (r'.*\\'s$', 'NOUN'),              # possessive nouns\n",
    "    (r'.*s$', 'NOUN'),                # plural nouns\n",
    "    (r'^-?[0-9]+(.[0-9]+)?$', 'NUM'), # cardinal numbers\n",
    "    (r'.*', 'NOUN')                    # nouns\n",
    "]\n",
    "rule_based_tagger = nltk.RegexpTagger(patterns)"
   ]
  },
  {
   "cell_type": "code",
   "execution_count": 95,
   "metadata": {},
   "outputs": [],
   "source": [
    "#Solution2\n",
    "# lexicon backed up by the rule-based tagger. Since Lexicon (Unigram) Tagger seems to perform fairly well.\n",
    "lexicon_tagger = nltk.UnigramTagger(train_set, backoff=rule_based_tagger)"
   ]
  },
  {
   "cell_type": "markdown",
   "metadata": {},
   "source": [
    "Implementing both solutions in Viterbi Algorithm"
   ]
  },
  {
   "cell_type": "code",
   "execution_count": 96,
   "metadata": {},
   "outputs": [],
   "source": [
    "# Viterbi Algorithm - Modified\n",
    "def Viterbi_Modified(words, train_bag = train_tagged_words):\n",
    "    state = []\n",
    "    T = list(set([pair[1] for pair in train_bag]))\n",
    "    \n",
    "    for key, word in enumerate(words):\n",
    "        #initialise list of probability column for a given observation\n",
    "        p = [] \n",
    "        for tag in T:\n",
    "            if key == 0:\n",
    "                transition_p = tags_df.loc['.', tag]\n",
    "            else:\n",
    "                transition_p = tags_df.loc[state[-1], tag]\n",
    "                \n",
    "            # compute emission and state probabilities\n",
    "            emission_p = word_given_tag(words[key], tag)[0]/word_given_tag(words[key], tag)[1]\n",
    "            state_probability = emission_p * transition_p    \n",
    "            p.append(state_probability)\n",
    "            \n",
    "            \n",
    "        pmax = max(p)\n",
    "        #state_max = T[p.index(pmax)] \n",
    "        \n",
    "        # Handling unknown words, by using lexicon_tagger which is backed up by rule_based_tagger\n",
    "        if(pmax==0):\n",
    "            state_max = lexicon_tagger.tag([word])[0][1]\n",
    "        else:\n",
    "            state_max = T[p.index(pmax)] \n",
    "            \n",
    "        state.append(state_max)\n",
    "    return list(zip(words, state))"
   ]
  },
  {
   "cell_type": "code",
   "execution_count": 100,
   "metadata": {},
   "outputs": [
    {
     "data": {
      "text/plain": [
       "[('ancestry', 'NOUN')]"
      ]
     },
     "execution_count": 100,
     "metadata": {},
     "output_type": "execute_result"
    }
   ],
   "source": [
    "Viterbi_Modified([\"ancestry\"])"
   ]
  },
  {
   "cell_type": "code",
   "execution_count": 101,
   "metadata": {},
   "outputs": [
    {
     "name": "stdout",
     "output_type": "stream",
     "text": [
      "Time taken in seconds:  41.523375034332275\n"
     ]
    }
   ],
   "source": [
    "# Tagging the test_set data sentences using Modified Viterbi Algorithm \n",
    "start = time.time()\n",
    "tagged_seq_modified = Viterbi_Modified(test_tagged_words)\n",
    "end = time.time()\n",
    "difference = end-start\n",
    "print(\"Time taken in seconds: \", difference)"
   ]
  },
  {
   "cell_type": "markdown",
   "metadata": {},
   "source": [
    "#### Evaluating tagging accuracy"
   ]
  },
  {
   "cell_type": "code",
   "execution_count": 103,
   "metadata": {},
   "outputs": [
    {
     "data": {
      "text/plain": [
       "0.9354838709677419"
      ]
     },
     "execution_count": 103,
     "metadata": {},
     "output_type": "execute_result"
    }
   ],
   "source": [
    "# Modified Viterbi Algorithm Accuracy\n",
    "check_Modified = [i for i, j in zip(tagged_seq_modified, test_run_base) if i == j] \n",
    "\n",
    "accuracy_modified = len(check_Modified)/len(tagged_seq_modified)\n",
    "accuracy_modified"
   ]
  },
  {
   "cell_type": "markdown",
   "metadata": {},
   "source": [
    "## The modified Viterbi gives an accuracy of 93% which is greater than vanilla viterbi algorithm (~89%)"
   ]
  },
  {
   "cell_type": "code",
   "execution_count": 104,
   "metadata": {},
   "outputs": [
    {
     "data": {
      "text/plain": [
       "[(('born', 'NOUN'), ('born', 'VERB')),\n",
       " (('future', 'ADJ'), ('future', 'NOUN')),\n",
       " (('equals', 'NOUN'), ('equals', 'VERB')),\n",
       " (('force', 'NOUN'), ('force', 'VERB')),\n",
       " (('wrenching', 'VERB'), ('wrenching', 'ADJ')),\n",
       " (('state-supervised', 'VERB'), ('state-supervised', 'ADJ')),\n",
       " (('*T*-86', 'NOUN'), ('*T*-86', 'X')),\n",
       " (('sufficient', 'NOUN'), ('sufficient', 'ADJ'))]"
      ]
     },
     "execution_count": 104,
     "metadata": {},
     "output_type": "execute_result"
    }
   ],
   "source": [
    "# let's check the incorrectly tagged words\n",
    "[j for i, j in enumerate(zip(tagged_seq_modified, test_run_base)) if j[0] != j[1]]"
   ]
  },
  {
   "cell_type": "markdown",
   "metadata": {},
   "source": [
    "### Compare the tagging accuracies of the modifications with the vanilla Viterbi algorithm"
   ]
  },
  {
   "cell_type": "code",
   "execution_count": 105,
   "metadata": {},
   "outputs": [
    {
     "name": "stdout",
     "output_type": "stream",
     "text": [
      "[('Android', 'NOUN'), ('is', 'VERB'), ('a', 'DET'), ('mobile', 'ADJ'), ('operating', 'NOUN'), ('system', 'NOUN'), ('developed', 'VERB'), ('by', 'ADP'), ('Google', 'NOUN'), ('.', '.'), ('Android', 'NOUN'), ('has', 'VERB'), ('been', 'VERB'), ('the', 'DET'), ('best-selling', 'ADJ'), ('OS', 'NOUN'), ('worldwide', 'NOUN'), ('on', 'ADP'), ('smartphones', 'VERB'), ('since', 'ADP'), ('2011', 'NUM'), ('and', 'CONJ'), ('on', 'ADP'), ('tablets', 'NOUN'), ('since', 'ADP'), ('2013', 'NUM'), ('.', '.'), ('Google', 'NOUN'), ('and', 'CONJ'), ('Twitter', 'NOUN'), ('made', 'VERB'), ('a', 'DET'), ('deal', 'NOUN'), ('in', 'ADP'), ('2015', 'NUM'), ('that', 'ADP'), ('gave', 'VERB'), ('Google', 'NOUN'), ('access', 'NOUN'), ('to', 'PRT'), ('Twitter', 'NOUN'), (\"'s\", 'PRT'), ('firehose', 'NOUN'), ('.', '.'), ('Twitter', 'NOUN'), ('is', 'VERB'), ('an', 'DET'), ('online', 'NOUN'), ('news', 'NOUN'), ('and', 'CONJ'), ('social', 'ADJ'), ('networking', 'NOUN'), ('service', 'NOUN'), ('on', 'ADP'), ('which', 'DET'), ('users', 'NOUN'), ('post', 'VERB'), ('and', 'CONJ'), ('interact', 'NOUN'), ('with', 'ADP'), ('messages', 'VERB'), ('known', 'VERB'), ('as', 'ADP'), ('tweets', 'NOUN'), ('.', '.'), ('Before', 'ADP'), ('entering', 'VERB'), ('politics', 'NOUN'), (',', '.'), ('Donald', 'NOUN'), ('Trump', 'NOUN'), ('was', 'VERB'), ('a', 'DET'), ('domineering', 'VERB'), ('businessman', 'NOUN'), ('and', 'CONJ'), ('a', 'DET'), ('television', 'NOUN'), ('personality', 'NOUN'), ('.', '.'), ('The', 'DET'), ('2018', 'NUM'), ('FIFA', 'NOUN'), ('World', 'NOUN'), ('Cup', 'NOUN'), ('is', 'VERB'), ('the', 'DET'), ('21st', 'NOUN'), ('FIFA', 'NOUN'), ('World', 'NOUN'), ('Cup', 'NOUN'), (',', '.'), ('an', 'DET'), ('international', 'ADJ'), ('football', 'NOUN'), ('tournament', 'NOUN'), ('contested', 'VERB'), ('once', 'ADV'), ('every', 'DET'), ('four', 'NUM'), ('years', 'NOUN'), ('.', '.'), ('This', 'DET'), ('is', 'VERB'), ('the', 'DET'), ('first', 'ADJ'), ('World', 'NOUN'), ('Cup', 'NOUN'), ('to', 'PRT'), ('be', 'VERB'), ('held', 'VERB'), ('in', 'ADP'), ('Eastern', 'NOUN'), ('Europe', 'NOUN'), ('and', 'CONJ'), ('the', 'DET'), ('11th', 'ADJ'), ('time', 'NOUN'), ('that', 'ADP'), ('it', 'PRON'), ('has', 'VERB'), ('been', 'VERB'), ('held', 'VERB'), ('in', 'ADP'), ('Europe', 'NOUN'), ('.', '.'), ('Show', 'NOUN'), ('me', 'PRON'), ('the', 'DET'), ('cheapest', 'ADJ'), ('round', 'NOUN'), ('trips', 'NOUN'), ('from', 'ADP'), ('Dallas', 'NOUN'), ('to', 'PRT'), ('Atlanta', 'NOUN'), ('I', 'PRON'), ('would', 'VERB'), ('like', 'ADP'), ('to', 'PRT'), ('see', 'VERB'), ('flights', 'NOUN'), ('from', 'ADP'), ('Denver', 'NOUN'), ('to', 'PRT'), ('Philadelphia', 'NOUN'), ('.', '.'), ('Show', 'NOUN'), ('me', 'PRON'), ('the', 'DET'), ('price', 'NOUN'), ('of', 'ADP'), ('the', 'DET'), ('flights', 'NOUN'), ('leaving', 'VERB'), ('Atlanta', 'NOUN'), ('at', 'ADP'), ('about', 'ADP'), ('3', 'NUM'), ('in', 'ADP'), ('the', 'DET'), ('afternoon', 'NOUN'), ('and', 'CONJ'), ('arriving', 'VERB'), ('in', 'ADP'), ('San', 'NOUN'), ('Francisco', 'NOUN'), ('.', '.'), ('NASA', 'NOUN'), ('invited', 'VERB'), ('social', 'ADJ'), ('media', 'NOUN'), ('users', 'NOUN'), ('to', 'PRT'), ('experience', 'NOUN'), ('the', 'DET'), ('launch', 'NOUN'), ('of', 'ADP'), ('ICESAT-2', 'NOUN'), ('Satellite', 'NOUN'), ('.', '.')]\n",
      "58.25233173370361\n"
     ]
    }
   ],
   "source": [
    "# Checking the tagged words on the test data set\n",
    "## Testing - Modified Viterbi\n",
    "file_content = open(\"Test_sentences.txt\").read()\n",
    "words = word_tokenize(file_content)\n",
    "words\n",
    "start = time.time()\n",
    "tagged_seq = Viterbi_Modified(words)\n",
    "end = time.time()\n",
    "difference = end-start\n",
    "print(tagged_seq)\n",
    "print(difference)"
   ]
  },
  {
   "cell_type": "markdown",
   "metadata": {},
   "source": [
    "#### Tagging on test file data with Vanilla Viterbi:\n",
    "\n",
    "[('Android', 'NUM'), ('is', 'VERB'), ('a', 'DET'), ('mobile', 'ADJ'), ('operating', 'NOUN'), ('system', 'NOUN'), ('developed', 'VERB'), ('by', 'ADP'), ('Google', 'NUM'), ('.', '.'), ('Android', 'NUM'), ('has', 'VERB'), ('been', 'VERB'), ('the', 'DET'), ('best-selling', 'ADJ'), ('OS', 'NUM'), ('worldwide', 'NUM'), ('on', 'ADP'), ('smartphones', 'NUM'), ('since', 'ADP'), ('2011', 'NUM'), ('and', 'CONJ'), ('on', 'ADP'), ('tablets', 'NOUN'), ('since', 'ADP'), ('2013', 'NUM'), ('.', '.'), ('Google', 'NUM'), ('and', 'CONJ'), ('Twitter', 'NUM'), ('made', 'VERB'), ('a', 'DET'), ('deal', 'NOUN'), ('in', 'ADP'), ('2015', 'NUM'), ('that', 'ADP'), ('gave', 'VERB'), ('Google', 'NUM'), ('access', 'NOUN'), ('to', 'PRT'), ('Twitter', 'NUM'), (\"'s\", 'PRT'), ('firehose', 'NUM'), ('.', '.'), ('Twitter', 'NUM'), ('is', 'VERB'), ('an', 'DET'), ('online', 'NUM'), ('news', 'NOUN'), ('and', 'CONJ'), ('social', 'ADJ'), ('networking', 'NOUN'), ('service', 'NOUN'), ('on', 'ADP'), ('which', 'DET'), ('users', 'NOUN'), ('post', 'NOUN'), ('and', 'CONJ'), ('interact', 'NUM'), ('with', 'ADP'), ('messages', 'NUM'), ('known', 'VERB'), ('as', 'ADP'), ('tweets', 'NUM'), ('.', '.'), ('Before', 'ADP'), ('entering', 'VERB'), ('politics', 'NOUN'), (',', '.'), ('Donald', 'NOUN'), ('Trump', 'NOUN'), ('was', 'VERB'), ('a', 'DET'), ('domineering', 'NUM'), ('businessman', 'NOUN'), ('and', 'CONJ'), ('a', 'DET'), ('television', 'NOUN'), ('personality', 'NUM'), ('.', '.'), ('The', 'DET'), ('2018', 'NUM'), ('FIFA', 'NUM'), ('World', 'NOUN'), ('Cup', 'NUM'), ('is', 'VERB'), ('the', 'DET'), ('21st', 'NUM'), ('FIFA', 'NUM'), ('World', 'NOUN'), ('Cup', 'NUM'), (',', '.'), ('an', 'DET'), ('international', 'ADJ'), ('football', 'NOUN'), ('tournament', 'NUM'), ('contested', 'NUM'), ('once', 'ADV'), ('every', 'DET'), ('four', 'NUM'), ('years', 'NOUN'), ('.', '.'), ('This', 'DET'), ('is', 'VERB'), ('the', 'DET'), ('first', 'ADJ'), ('World', 'NOUN'), ('Cup', 'NUM'), ('to', 'PRT'), ('be', 'VERB'), ('held', 'VERB'), ('in', 'ADP'), ('Eastern', 'NOUN'), ('Europe', 'NOUN'), ('and', 'CONJ'), ('the', 'DET'), ('11th', 'ADJ'), ('time', 'NOUN'), ('that', 'ADP'), ('it', 'PRON'), ('has', 'VERB'), ('been', 'VERB'), ('held', 'VERB'), ('in', 'ADP'), ('Europe', 'NOUN'), ('.', '.'), ('Show', 'NOUN'), ('me', 'PRON'), ('the', 'DET'), ('cheapest', 'ADJ'), ('round', 'NOUN'), ('trips', 'NUM'), ('from', 'ADP'), ('Dallas', 'NOUN'), ('to', 'PRT'), ('Atlanta', 'NOUN'), ('I', 'PRON'), ('would', 'VERB'), ('like', 'ADP'), ('to', 'PRT'), ('see', 'VERB'), ('flights', 'NOUN'), ('from', 'ADP'), ('Denver', 'NOUN'), ('to', 'PRT'), ('Philadelphia', 'NOUN'), ('.', '.'), ('Show', 'NOUN'), ('me', 'PRON'), ('the', 'DET'), ('price', 'NOUN'), ('of', 'ADP'), ('the', 'DET'), ('flights', 'NOUN'), ('leaving', 'VERB'), ('Atlanta', 'NOUN'), ('at', 'ADP'), ('about', 'ADP'), ('3', 'NUM'), ('in', 'ADP'), ('the', 'DET'), ('afternoon', 'NOUN'), ('and', 'CONJ'), ('arriving', 'NUM'), ('in', 'ADP'), ('San', 'NOUN'), ('Francisco', 'NOUN'), ('.', '.'), ('NASA', 'NUM'), ('invited', 'NUM'), ('social', 'ADJ'), ('media', 'NOUN'), ('users', 'NOUN'), ('to', 'PRT'), ('experience', 'NOUN'), ('the', 'DET'), ('launch', 'NOUN'), ('of', 'ADP'), ('ICESAT-2', 'NUM'), ('Satellite', 'NUM'), ('.', '.')"
   ]
  },
  {
   "cell_type": "code",
   "execution_count": 109,
   "metadata": {},
   "outputs": [
    {
     "data": {
      "text/plain": [
       "['interact',\n",
       " 'OS',\n",
       " 'worldwide',\n",
       " 'ICESAT-2',\n",
       " 'Twitter',\n",
       " 'NASA',\n",
       " 'firehose',\n",
       " 'domineering',\n",
       " 'Satellite',\n",
       " 'Google',\n",
       " 'Cup',\n",
       " 'trips',\n",
       " '2011',\n",
       " 'tweets',\n",
       " '2018',\n",
       " 'Android',\n",
       " 'smartphones',\n",
       " 'FIFA',\n",
       " 'online',\n",
       " 'arriving',\n",
       " '2013',\n",
       " '21st',\n",
       " 'invited',\n",
       " 'tournament',\n",
       " '2015',\n",
       " 'contested',\n",
       " 'messages',\n",
       " 'personality']"
      ]
     },
     "execution_count": 109,
     "metadata": {},
     "output_type": "execute_result"
    }
   ],
   "source": [
    "# Find the list of word in \"Test sentences.txt\" file which are not present in Universal Treebank Corpus (tokens Vocabulary)\n",
    "words_not_in_corpus = list(set(words) - set(tokens))\n",
    "words_not_in_corpus"
   ]
  },
  {
   "cell_type": "code",
   "execution_count": 112,
   "metadata": {},
   "outputs": [],
   "source": [
    "# Get the new tags for sentences in \"Test sentences.txt\" using the new modified Viterbi algorithm\n",
    "test_sentences_tagged =[]\n",
    "test_sentences_tagged = test_sentences_tagged + list( Viterbi_Modified(words) )\n",
    "test_sentences_tagged\n",
    "\n",
    "# Display the new tags for the unknown words which was present in \"Test sentences.txt\"\n",
    "corrected_words=[tup for tup in test_sentences_tagged for word in words_not_in_corpus if tup[0]==word ]"
   ]
  },
  {
   "cell_type": "code",
   "execution_count": 121,
   "metadata": {},
   "outputs": [
    {
     "data": {
      "text/plain": [
       "[('Android', 'NOUN'),\n",
       " ('Google', 'NOUN'),\n",
       " ('Android', 'NOUN'),\n",
       " ('OS', 'NOUN'),\n",
       " ('worldwide', 'NOUN'),\n",
       " ('smartphones', 'VERB'),\n",
       " ('2011', 'NUM'),\n",
       " ('2013', 'NUM'),\n",
       " ('Google', 'NOUN'),\n",
       " ('Twitter', 'NOUN'),\n",
       " ('2015', 'NUM'),\n",
       " ('Google', 'NOUN'),\n",
       " ('Twitter', 'NOUN'),\n",
       " ('firehose', 'NOUN'),\n",
       " ('Twitter', 'NOUN'),\n",
       " ('online', 'NOUN'),\n",
       " ('interact', 'NOUN'),\n",
       " ('messages', 'VERB'),\n",
       " ('tweets', 'NOUN'),\n",
       " ('domineering', 'VERB'),\n",
       " ('personality', 'NOUN'),\n",
       " ('2018', 'NUM'),\n",
       " ('FIFA', 'NOUN'),\n",
       " ('Cup', 'NOUN'),\n",
       " ('21st', 'NOUN'),\n",
       " ('FIFA', 'NOUN'),\n",
       " ('Cup', 'NOUN'),\n",
       " ('tournament', 'NOUN'),\n",
       " ('contested', 'VERB'),\n",
       " ('Cup', 'NOUN'),\n",
       " ('trips', 'NOUN'),\n",
       " ('arriving', 'VERB'),\n",
       " ('NASA', 'NOUN'),\n",
       " ('invited', 'VERB'),\n",
       " ('ICESAT-2', 'NOUN'),\n",
       " ('Satellite', 'NOUN')]"
      ]
     },
     "execution_count": 121,
     "metadata": {},
     "output_type": "execute_result"
    }
   ],
   "source": [
    "corrected_words"
   ]
  },
  {
   "cell_type": "code",
   "execution_count": 113,
   "metadata": {},
   "outputs": [],
   "source": [
    "# Get the new tags for sentences in \"Test sentences.txt\" using the new modified Viterbi algorithm\n",
    "test_sentences_tagged_vanilla =[]\n",
    "test_sentences_tagged_vanilla = test_sentences_tagged + list( Viterbi(words) )\n",
    "test_sentences_tagged_vanilla\n",
    "\n",
    "# Display the new tags for the unknown words which was present in \"Test sentences.txt\"\n",
    "vanilla_words=[tup for tup in test_sentences_tagged_vanilla for word in words_not_in_corpus if tup[0]==word ]"
   ]
  },
  {
   "cell_type": "code",
   "execution_count": 122,
   "metadata": {},
   "outputs": [
    {
     "data": {
      "text/plain": [
       "[('Android', 'NOUN'),\n",
       " ('Google', 'NOUN'),\n",
       " ('Android', 'NOUN'),\n",
       " ('OS', 'NOUN'),\n",
       " ('worldwide', 'NOUN'),\n",
       " ('smartphones', 'VERB'),\n",
       " ('2011', 'NUM'),\n",
       " ('2013', 'NUM'),\n",
       " ('Google', 'NOUN'),\n",
       " ('Twitter', 'NOUN'),\n",
       " ('2015', 'NUM'),\n",
       " ('Google', 'NOUN'),\n",
       " ('Twitter', 'NOUN'),\n",
       " ('firehose', 'NOUN'),\n",
       " ('Twitter', 'NOUN'),\n",
       " ('online', 'NOUN'),\n",
       " ('interact', 'NOUN'),\n",
       " ('messages', 'VERB'),\n",
       " ('tweets', 'NOUN'),\n",
       " ('domineering', 'VERB'),\n",
       " ('personality', 'NOUN'),\n",
       " ('2018', 'NUM'),\n",
       " ('FIFA', 'NOUN'),\n",
       " ('Cup', 'NOUN'),\n",
       " ('21st', 'NOUN'),\n",
       " ('FIFA', 'NOUN'),\n",
       " ('Cup', 'NOUN'),\n",
       " ('tournament', 'NOUN'),\n",
       " ('contested', 'VERB'),\n",
       " ('Cup', 'NOUN'),\n",
       " ('trips', 'NOUN'),\n",
       " ('arriving', 'VERB'),\n",
       " ('NASA', 'NOUN'),\n",
       " ('invited', 'VERB'),\n",
       " ('ICESAT-2', 'NOUN'),\n",
       " ('Satellite', 'NOUN'),\n",
       " ('Android', 'NUM'),\n",
       " ('Google', 'NUM'),\n",
       " ('Android', 'NUM'),\n",
       " ('OS', 'NUM'),\n",
       " ('worldwide', 'NUM'),\n",
       " ('smartphones', 'NUM'),\n",
       " ('2011', 'NUM'),\n",
       " ('2013', 'NUM'),\n",
       " ('Google', 'NUM'),\n",
       " ('Twitter', 'NUM'),\n",
       " ('2015', 'NUM'),\n",
       " ('Google', 'NUM'),\n",
       " ('Twitter', 'NUM'),\n",
       " ('firehose', 'NUM'),\n",
       " ('Twitter', 'NUM'),\n",
       " ('online', 'NUM'),\n",
       " ('interact', 'NUM'),\n",
       " ('messages', 'NUM'),\n",
       " ('tweets', 'NUM'),\n",
       " ('domineering', 'NUM'),\n",
       " ('personality', 'NUM'),\n",
       " ('2018', 'NUM'),\n",
       " ('FIFA', 'NUM'),\n",
       " ('Cup', 'NUM'),\n",
       " ('21st', 'NUM'),\n",
       " ('FIFA', 'NUM'),\n",
       " ('Cup', 'NUM'),\n",
       " ('tournament', 'NUM'),\n",
       " ('contested', 'NUM'),\n",
       " ('Cup', 'NUM'),\n",
       " ('trips', 'NUM'),\n",
       " ('arriving', 'NUM'),\n",
       " ('NASA', 'NUM'),\n",
       " ('invited', 'NUM'),\n",
       " ('ICESAT-2', 'NUM'),\n",
       " ('Satellite', 'NUM')]"
      ]
     },
     "execution_count": 122,
     "metadata": {},
     "output_type": "execute_result"
    }
   ],
   "source": [
    "vanilla_words"
   ]
  },
  {
   "cell_type": "markdown",
   "metadata": {},
   "source": [
    "### List down cases which were incorrectly tagged by original POS tagger and got corrected by your modifications"
   ]
  },
  {
   "cell_type": "markdown",
   "metadata": {},
   "source": [
    "1) Words like Andriod, Google, Satellite, FIFA which were earlier marked as \"NUM\" are now marked as \"NOUN\""
   ]
  },
  {
   "cell_type": "markdown",
   "metadata": {},
   "source": [
    "2) Words like contested and invited which were earlier marked as \"NUM\" are now correctly marked as \"VERB\""
   ]
  },
  {
   "cell_type": "markdown",
   "metadata": {},
   "source": [
    "3) ICESAT-2 and personality which were earlier marked as \"NUM\" are now marked as \"NOUN\""
   ]
  },
  {
   "cell_type": "code",
   "execution_count": null,
   "metadata": {},
   "outputs": [],
   "source": []
  }
 ],
 "metadata": {
  "kernelspec": {
   "display_name": "Python 3",
   "language": "python",
   "name": "python3"
  },
  "language_info": {
   "codemirror_mode": {
    "name": "ipython",
    "version": 3
   },
   "file_extension": ".py",
   "mimetype": "text/x-python",
   "name": "python",
   "nbconvert_exporter": "python",
   "pygments_lexer": "ipython3",
   "version": "3.7.3"
  }
 },
 "nbformat": 4,
 "nbformat_minor": 2
}
